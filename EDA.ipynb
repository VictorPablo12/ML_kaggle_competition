{
 "cells": [
  {
   "cell_type": "markdown",
   "id": "e1d04a66",
   "metadata": {},
   "source": [
    "# EDA"
   ]
  },
  {
   "cell_type": "markdown",
   "id": "fed63100",
   "metadata": {},
   "source": [
    "Take a look @ our data:"
   ]
  },
  {
   "cell_type": "code",
   "execution_count": 2,
   "id": "fd7a3acc",
   "metadata": {},
   "outputs": [],
   "source": [
    "import pandas as pd\n",
    "import numpy as np"
   ]
  },
  {
   "cell_type": "code",
   "execution_count": 31,
   "id": "9d030794",
   "metadata": {},
   "outputs": [],
   "source": [
    "raw_train = pd.read_csv('data/train.csv.zip')"
   ]
  },
  {
   "cell_type": "code",
   "execution_count": 32,
   "id": "16ce9f89",
   "metadata": {},
   "outputs": [
    {
     "data": {
      "text/plain": [
       "(4167, 74)"
      ]
     },
     "execution_count": 32,
     "metadata": {},
     "output_type": "execute_result"
    }
   ],
   "source": [
    "raw_train.shape"
   ]
  },
  {
   "cell_type": "markdown",
   "id": "703ef01c",
   "metadata": {},
   "source": [
    " - As it's quite large, let's tweak pd options to dive into our dataset comfortably. This way we can display columns/rows desired with no kind of restriction."
   ]
  },
  {
   "cell_type": "code",
   "execution_count": 26,
   "id": "f8e68600",
   "metadata": {},
   "outputs": [],
   "source": [
    "pd.set_option('display.max_columns', None)\n",
    "pd.set_option('display.max_rows', None)"
   ]
  },
  {
   "cell_type": "markdown",
   "id": "fb8ee8df",
   "metadata": {},
   "source": [
    "How our df's rows look like.\n",
    "Just like <code>df.head(1)</code>, but nicer ;)"
   ]
  },
  {
   "cell_type": "code",
   "execution_count": 33,
   "id": "47146766",
   "metadata": {},
   "outputs": [
    {
     "data": {
      "text/plain": [
       "id                                                                                              0\n",
       "listing_url                                                  https://www.airbnb.com/rooms/2842228\n",
       "scrape_id                                                                          20211205213126\n",
       "last_scraped                                                                           2021-12-06\n",
       "name                                                             Your little appartment on wheels\n",
       "description                                     A waggon luxurous designed as a hotel room on ...\n",
       "neighborhood_overview                           Waterland is a beautiful countryside area, wit...\n",
       "picture_url                                     https://a0.muscache.com/pictures/cc2aa51a-3c11...\n",
       "host_id                                                                                   3040748\n",
       "host_url                                                https://www.airbnb.com/users/show/3040748\n",
       "host_name                                                                                    Henk\n",
       "host_since                                                                             2012-07-24\n",
       "host_location                                           Amsterdam, North Holland, The Netherlands\n",
       "host_about                                      Living in the countryside, just near Amsterdam...\n",
       "host_response_time                                                             within a few hours\n",
       "host_response_rate                                                                           100%\n",
       "host_acceptance_rate                                                                          75%\n",
       "host_is_superhost                                                                               f\n",
       "host_thumbnail_url                              https://a0.muscache.com/im/users/3040748/profi...\n",
       "host_picture_url                                https://a0.muscache.com/im/users/3040748/profi...\n",
       "host_neighbourhood                                                                            NaN\n",
       "host_listings_count                                                                            13\n",
       "host_total_listings_count                                                                      13\n",
       "host_verifications                              ['email', 'phone', 'reviews', 'jumio', 'offlin...\n",
       "host_has_profile_pic                                                                            t\n",
       "host_identity_verified                                                                          t\n",
       "neighbourhood                                               Amsterdam, North Holland, Netherlands\n",
       "neighbourhood_cleansed                                                                 Noord-Oost\n",
       "neighbourhood_group_cleansed                                                                  NaN\n",
       "latitude                                                                                 52.39508\n",
       "longitude                                                                                 4.99186\n",
       "property_type                                                           Private room in farm stay\n",
       "room_type                                                                            Private room\n",
       "accommodates                                                                                    3\n",
       "bathrooms                                                                                     NaN\n",
       "bathrooms_text                                                                   1.5 shared baths\n",
       "bedrooms                                                                                      1.0\n",
       "beds                                                                                          NaN\n",
       "amenities                                       [\"First aid kit\", \"Free parking on premises\", ...\n",
       "price                                                                                        87.0\n",
       "minimum_nights                                                                                  2\n",
       "maximum_nights                                                                               1125\n",
       "minimum_minimum_nights                                                                        2.0\n",
       "maximum_minimum_nights                                                                        2.0\n",
       "minimum_maximum_nights                                                                     1125.0\n",
       "maximum_maximum_nights                                                                     1125.0\n",
       "minimum_nights_avg_ntm                                                                        2.0\n",
       "maximum_nights_avg_ntm                                                                     1125.0\n",
       "calendar_updated                                                                              NaN\n",
       "has_availability                                                                                t\n",
       "availability_30                                                                                 0\n",
       "availability_60                                                                                 0\n",
       "availability_90                                                                                 0\n",
       "availability_365                                                                              249\n",
       "calendar_last_scraped                                                                  2021-12-06\n",
       "number_of_reviews                                                                              81\n",
       "number_of_reviews_ltm                                                                           0\n",
       "number_of_reviews_l30d                                                                          0\n",
       "first_review                                                                           2014-08-03\n",
       "last_review                                                                            2019-06-15\n",
       "review_scores_rating                                                                         4.62\n",
       "review_scores_accuracy                                                                       4.56\n",
       "review_scores_cleanliness                                                                    4.29\n",
       "review_scores_checkin                                                                        4.57\n",
       "review_scores_communication                                                                  4.75\n",
       "review_scores_location                                                                       4.69\n",
       "review_scores_value                                                                          4.49\n",
       "license                                                                  0363 2A6D 7C09 877D 715F\n",
       "instant_bookable                                                                                f\n",
       "calculated_host_listings_count                                                                 10\n",
       "calculated_host_listings_count_entire_homes                                                     0\n",
       "calculated_host_listings_count_private_rooms                                                   10\n",
       "calculated_host_listings_count_shared_rooms                                                     0\n",
       "reviews_per_month                                                                            0.91\n",
       "Name: 0, dtype: object"
      ]
     },
     "execution_count": 33,
     "metadata": {},
     "output_type": "execute_result"
    }
   ],
   "source": [
    "raw_train.iloc[raw_test['id'][0]] "
   ]
  },
  {
   "cell_type": "code",
   "execution_count": 2,
   "id": "70bf5420",
   "metadata": {},
   "outputs": [
    {
     "ename": "NameError",
     "evalue": "name 'raw_train' is not defined",
     "output_type": "error",
     "traceback": [
      "\u001b[0;31m---------------------------------------------------------------------------\u001b[0m",
      "\u001b[0;31mNameError\u001b[0m                                 Traceback (most recent call last)",
      "\u001b[0;32m/tmp/ipykernel_42533/1478131766.py\u001b[0m in \u001b[0;36m<module>\u001b[0;34m\u001b[0m\n\u001b[0;32m----> 1\u001b[0;31m \u001b[0mraw_train\u001b[0m\u001b[0;34m[\u001b[0m\u001b[0;34m'price'\u001b[0m\u001b[0;34m]\u001b[0m\u001b[0;34m.\u001b[0m\u001b[0mmax\u001b[0m\u001b[0;34m(\u001b[0m\u001b[0;34m)\u001b[0m\u001b[0;34m\u001b[0m\u001b[0;34m\u001b[0m\u001b[0m\n\u001b[0m",
      "\u001b[0;31mNameError\u001b[0m: name 'raw_train' is not defined"
     ]
    }
   ],
   "source": [
    "raw_train['price'].max()"
   ]
  },
  {
   "cell_type": "code",
   "execution_count": null,
   "id": "e1449276",
   "metadata": {},
   "outputs": [],
   "source": []
  },
  {
   "cell_type": "code",
   "execution_count": 10,
   "id": "6026bd12",
   "metadata": {},
   "outputs": [],
   "source": [
    "raw_test.drop(columns=['listing_url','scrape_id','last_scraped',\n",
    "              'name','description','neighborhood_overview','picture_url','host_id','host_url','host_name',\n",
    "              'host_since','host_location','host_about','host_response_time','host_response_rate','host_acceptance_rate',\n",
    "              'host_thumbnail_url','host_picture_url','host_neighbourhood','neighbourhood_cleansed',\n",
    "              'neighbourhood_group_cleansed','bathrooms','minimum_nights','maximum_nights',\n",
    "              'minimum_minimum_nights','maximum_minimum_nights','minimum_maximum_nights','maximum_maximum_nights',\n",
    "              'minimum_nights_avg_ntm','maximum_nights_avg_ntm','calendar_updated','has_availability',\n",
    "              'availability_30','availability_60','availability_90','availability_365','calendar_last_scraped',\n",
    "              'number_of_reviews','number_of_reviews_ltm','number_of_reviews_l30d','first_review',\n",
    "              'last_review','review_scores_rating','review_scores_accuracy','review_scores_cleanliness',\n",
    "              'review_scores_checkin','review_scores_communication','review_scores_location','review_scores_value',\n",
    "              'license','instant_bookable','calculated_host_listings_count','calculated_host_listings_count_entire_homes',\n",
    "              'calculated_host_listings_count_private_rooms','calculated_host_listings_count_shared_rooms',\n",
    "              'reviews_per_month','last_searched','requires_license','region_id','region_name','region_parent_id',\n",
    "              'region_parent_name','region_parent_parent_id','region_parent_parent_name'], axis=1, inplace=True)"
   ]
  },
  {
   "cell_type": "code",
   "execution_count": 12,
   "id": "b4873c8d",
   "metadata": {},
   "outputs": [
    {
     "data": {
      "text/html": [
       "<div>\n",
       "<style scoped>\n",
       "    .dataframe tbody tr th:only-of-type {\n",
       "        vertical-align: middle;\n",
       "    }\n",
       "\n",
       "    .dataframe tbody tr th {\n",
       "        vertical-align: top;\n",
       "    }\n",
       "\n",
       "    .dataframe thead th {\n",
       "        text-align: right;\n",
       "    }\n",
       "</style>\n",
       "<table border=\"1\" class=\"dataframe\">\n",
       "  <thead>\n",
       "    <tr style=\"text-align: right;\">\n",
       "      <th></th>\n",
       "      <th>id</th>\n",
       "      <th>host_is_superhost</th>\n",
       "      <th>host_listings_count</th>\n",
       "      <th>host_total_listings_count</th>\n",
       "      <th>host_verifications</th>\n",
       "      <th>host_has_profile_pic</th>\n",
       "      <th>host_identity_verified</th>\n",
       "      <th>neighbourhood</th>\n",
       "      <th>latitude</th>\n",
       "      <th>longitude</th>\n",
       "      <th>property_type</th>\n",
       "      <th>room_type</th>\n",
       "      <th>accommodates</th>\n",
       "      <th>bathrooms_text</th>\n",
       "      <th>bedrooms</th>\n",
       "      <th>beds</th>\n",
       "      <th>amenities</th>\n",
       "    </tr>\n",
       "  </thead>\n",
       "  <tbody>\n",
       "    <tr>\n",
       "      <th>0</th>\n",
       "      <td>0</td>\n",
       "      <td>f</td>\n",
       "      <td>1.0</td>\n",
       "      <td>1.0</td>\n",
       "      <td>['email', 'phone', 'jumio', 'offline_governmen...</td>\n",
       "      <td>t</td>\n",
       "      <td>t</td>\n",
       "      <td>Munich, Bayern, Germany</td>\n",
       "      <td>48.124790</td>\n",
       "      <td>11.597010</td>\n",
       "      <td>Entire rental unit</td>\n",
       "      <td>Entire home/apt</td>\n",
       "      <td>5.0</td>\n",
       "      <td>2 baths</td>\n",
       "      <td>1.0</td>\n",
       "      <td>4.0</td>\n",
       "      <td>[\"Shampoo\", \"Hair dryer\", \"Wifi\", \"Heating\", \"...</td>\n",
       "    </tr>\n",
       "    <tr>\n",
       "      <th>1</th>\n",
       "      <td>1</td>\n",
       "      <td>f</td>\n",
       "      <td>1.0</td>\n",
       "      <td>1.0</td>\n",
       "      <td>['email', 'phone', 'reviews', 'jumio', 'offlin...</td>\n",
       "      <td>t</td>\n",
       "      <td>t</td>\n",
       "      <td>Paris, Île-de-France, France</td>\n",
       "      <td>48.892890</td>\n",
       "      <td>2.361360</td>\n",
       "      <td>Entire rental unit</td>\n",
       "      <td>Entire home/apt</td>\n",
       "      <td>2.0</td>\n",
       "      <td>1 bath</td>\n",
       "      <td>NaN</td>\n",
       "      <td>1.0</td>\n",
       "      <td>[\"Building staff\", \"Elevator\", \"Cooking basics...</td>\n",
       "    </tr>\n",
       "    <tr>\n",
       "      <th>2</th>\n",
       "      <td>2</td>\n",
       "      <td>t</td>\n",
       "      <td>14.0</td>\n",
       "      <td>14.0</td>\n",
       "      <td>['email', 'phone', 'work_email']</td>\n",
       "      <td>t</td>\n",
       "      <td>t</td>\n",
       "      <td>Heraklion Crete, Greece</td>\n",
       "      <td>35.315311</td>\n",
       "      <td>25.238979</td>\n",
       "      <td>Entire residential home</td>\n",
       "      <td>Entire home/apt</td>\n",
       "      <td>8.0</td>\n",
       "      <td>1.5 baths</td>\n",
       "      <td>3.0</td>\n",
       "      <td>4.0</td>\n",
       "      <td>[\"Shampoo\", \"BBQ grill\", \"Private patio or bal...</td>\n",
       "    </tr>\n",
       "    <tr>\n",
       "      <th>3</th>\n",
       "      <td>3</td>\n",
       "      <td>f</td>\n",
       "      <td>12.0</td>\n",
       "      <td>12.0</td>\n",
       "      <td>['email', 'phone', 'offline_government_id', 's...</td>\n",
       "      <td>t</td>\n",
       "      <td>t</td>\n",
       "      <td>NaN</td>\n",
       "      <td>45.760790</td>\n",
       "      <td>4.834610</td>\n",
       "      <td>Private room in rental unit</td>\n",
       "      <td>Private room</td>\n",
       "      <td>3.0</td>\n",
       "      <td>1 bath</td>\n",
       "      <td>1.0</td>\n",
       "      <td>1.0</td>\n",
       "      <td>[\"Shampoo\", \"TV\", \"Wifi\"]</td>\n",
       "    </tr>\n",
       "    <tr>\n",
       "      <th>4</th>\n",
       "      <td>4</td>\n",
       "      <td>f</td>\n",
       "      <td>1.0</td>\n",
       "      <td>1.0</td>\n",
       "      <td>['email', 'phone', 'facebook', 'reviews', 'jum...</td>\n",
       "      <td>t</td>\n",
       "      <td>t</td>\n",
       "      <td>Barcelona, Catalunya, Spain</td>\n",
       "      <td>41.402520</td>\n",
       "      <td>2.140050</td>\n",
       "      <td>Private room in rental unit</td>\n",
       "      <td>Private room</td>\n",
       "      <td>2.0</td>\n",
       "      <td>1.5 shared baths</td>\n",
       "      <td>1.0</td>\n",
       "      <td>1.0</td>\n",
       "      <td>[\"Oven\", \"Coffee maker\", \"TV\", \"Patio or balco...</td>\n",
       "    </tr>\n",
       "  </tbody>\n",
       "</table>\n",
       "</div>"
      ],
      "text/plain": [
       "  id host_is_superhost  host_listings_count host_total_listings_count  \\\n",
       "0  0                 f                  1.0                       1.0   \n",
       "1  1                 f                  1.0                       1.0   \n",
       "2  2                 t                 14.0                      14.0   \n",
       "3  3                 f                 12.0                      12.0   \n",
       "4  4                 f                  1.0                       1.0   \n",
       "\n",
       "                                  host_verifications host_has_profile_pic  \\\n",
       "0  ['email', 'phone', 'jumio', 'offline_governmen...                    t   \n",
       "1  ['email', 'phone', 'reviews', 'jumio', 'offlin...                    t   \n",
       "2                   ['email', 'phone', 'work_email']                    t   \n",
       "3  ['email', 'phone', 'offline_government_id', 's...                    t   \n",
       "4  ['email', 'phone', 'facebook', 'reviews', 'jum...                    t   \n",
       "\n",
       "  host_identity_verified                 neighbourhood   latitude  longitude  \\\n",
       "0                      t       Munich, Bayern, Germany  48.124790  11.597010   \n",
       "1                      t  Paris, Île-de-France, France  48.892890   2.361360   \n",
       "2                      t       Heraklion Crete, Greece  35.315311  25.238979   \n",
       "3                      t                           NaN  45.760790   4.834610   \n",
       "4                      t   Barcelona, Catalunya, Spain  41.402520   2.140050   \n",
       "\n",
       "                 property_type        room_type  accommodates  \\\n",
       "0           Entire rental unit  Entire home/apt           5.0   \n",
       "1           Entire rental unit  Entire home/apt           2.0   \n",
       "2      Entire residential home  Entire home/apt           8.0   \n",
       "3  Private room in rental unit     Private room           3.0   \n",
       "4  Private room in rental unit     Private room           2.0   \n",
       "\n",
       "     bathrooms_text  bedrooms  beds  \\\n",
       "0           2 baths       1.0   4.0   \n",
       "1            1 bath       NaN   1.0   \n",
       "2         1.5 baths       3.0   4.0   \n",
       "3            1 bath       1.0   1.0   \n",
       "4  1.5 shared baths       1.0   1.0   \n",
       "\n",
       "                                           amenities  \n",
       "0  [\"Shampoo\", \"Hair dryer\", \"Wifi\", \"Heating\", \"...  \n",
       "1  [\"Building staff\", \"Elevator\", \"Cooking basics...  \n",
       "2  [\"Shampoo\", \"BBQ grill\", \"Private patio or bal...  \n",
       "3                          [\"Shampoo\", \"TV\", \"Wifi\"]  \n",
       "4  [\"Oven\", \"Coffee maker\", \"TV\", \"Patio or balco...  "
      ]
     },
     "execution_count": 12,
     "metadata": {},
     "output_type": "execute_result"
    }
   ],
   "source": [
    "raw_test.head()"
   ]
  },
  {
   "cell_type": "code",
   "execution_count": 14,
   "id": "9e65447d",
   "metadata": {},
   "outputs": [
    {
     "data": {
      "text/plain": [
       "array(['f', 't', nan, '-9.11113', '-8.60792', '2.37446', '-8.31659',\n",
       "       '-8.62264', '12.540807', '-8.28235', '-8.60773', '-9.10972'],\n",
       "      dtype=object)"
      ]
     },
     "execution_count": 14,
     "metadata": {},
     "output_type": "execute_result"
    }
   ],
   "source": [
    "raw_test.host_is_superhost.unique()"
   ]
  },
  {
   "cell_type": "code",
   "execution_count": 15,
   "id": "f43f86d3",
   "metadata": {},
   "outputs": [],
   "source": [
    "sample = pd.read_csv('data/sample.csv')"
   ]
  },
  {
   "cell_type": "markdown",
   "id": "c339863c",
   "metadata": {},
   "source": [
    "Cargados los datasets, vamos a echar un ojo a lo que tenemos en el train:"
   ]
  },
  {
   "cell_type": "code",
   "execution_count": null,
   "id": "d95fa39b",
   "metadata": {},
   "outputs": [],
   "source": [
    "sample.shape"
   ]
  },
  {
   "cell_type": "code",
   "execution_count": null,
   "id": "563b4916",
   "metadata": {},
   "outputs": [],
   "source": [
    "numericas = raw_train.select_dtypes(include=np.number) #mirar _get_numeric_data()"
   ]
  },
  {
   "cell_type": "code",
   "execution_count": null,
   "id": "8c022b4b",
   "metadata": {},
   "outputs": [],
   "source": [
    "numericas.shape"
   ]
  },
  {
   "cell_type": "code",
   "execution_count": null,
   "id": "43324cb9",
   "metadata": {},
   "outputs": [],
   "source": [
    "#Hacemos el tts"
   ]
  },
  {
   "cell_type": "code",
   "execution_count": null,
   "id": "b23ca2c3",
   "metadata": {},
   "outputs": [],
   "source": [
    "from sklearn.model_selection import train_test_split as tts"
   ]
  },
  {
   "cell_type": "code",
   "execution_count": null,
   "id": "580eb49e",
   "metadata": {},
   "outputs": [],
   "source": [
    "import h2o\n",
    "from h2o.automl import H2OAutoML\n"
   ]
  },
  {
   "cell_type": "code",
   "execution_count": null,
   "id": "f2b6db0d",
   "metadata": {},
   "outputs": [],
   "source": [
    "h2o.init(\n",
    "    nthreads=-1,     # number of threads when launching a new H2O server\n",
    "    max_mem_size=12  # in gigabytes\n",
    ")"
   ]
  },
  {
   "cell_type": "code",
   "execution_count": null,
   "id": "9e1d07da",
   "metadata": {},
   "outputs": [],
   "source": [
    "data=numericas.sample(frac=0.95, random_state=786).reset_index(drop=True)\n",
    "\n",
    "data_test=numericas.drop(data.index).reset_index(drop=True)\n",
    "\n",
    "data.shape, data_test.shape"
   ]
  },
  {
   "cell_type": "code",
   "execution_count": null,
   "id": "fd420369",
   "metadata": {},
   "outputs": [],
   "source": [
    "train = h2o.H2OFrame(data)"
   ]
  },
  {
   "cell_type": "code",
   "execution_count": null,
   "id": "5f9a534b",
   "metadata": {},
   "outputs": [],
   "source": [
    "x = train.columns\n",
    "y = \"price\"\n",
    "x.remove(y)"
   ]
  },
  {
   "cell_type": "code",
   "execution_count": null,
   "id": "afc8280c",
   "metadata": {},
   "outputs": [],
   "source": [
    "aml = H2OAutoML(max_models=4, seed=2)\n",
    "aml.train(x=x, y=y, training_frame=train)"
   ]
  },
  {
   "cell_type": "code",
   "execution_count": null,
   "id": "340edb88",
   "metadata": {},
   "outputs": [],
   "source": [
    "lb = aml.leaderboard\n",
    "lb.head(rows=lb.nrows)[:5]"
   ]
  },
  {
   "cell_type": "code",
   "execution_count": null,
   "id": "90bfc5aa",
   "metadata": {},
   "outputs": [],
   "source": [
    "data_test=numericas.drop(data.index).reset_index(drop=True)\n",
    "data_test=h2o.H2OFrame(data_test)\n",
    "preds = aml.leader.predict(data_test)"
   ]
  },
  {
   "cell_type": "code",
   "execution_count": null,
   "id": "fb7843d6",
   "metadata": {},
   "outputs": [],
   "source": [
    "test_completo = pd.read_csv('data/test.csv')"
   ]
  },
  {
   "cell_type": "code",
   "execution_count": null,
   "id": "bcbfde0f",
   "metadata": {},
   "outputs": [],
   "source": [
    "test_completo = h2o.H2OFrame(test_completo)"
   ]
  },
  {
   "cell_type": "code",
   "execution_count": null,
   "id": "07ada8df",
   "metadata": {},
   "outputs": [],
   "source": [
    "prediccion_test_completo = aml.leader.predict(test_completo)"
   ]
  },
  {
   "cell_type": "code",
   "execution_count": null,
   "id": "30ba9683",
   "metadata": {},
   "outputs": [],
   "source": []
  },
  {
   "cell_type": "code",
   "execution_count": null,
   "id": "ffadbea6",
   "metadata": {},
   "outputs": [],
   "source": [
    "sample = pd.read_csv('data/sample.csv')"
   ]
  },
  {
   "cell_type": "code",
   "execution_count": null,
   "id": "fc85ea5d",
   "metadata": {},
   "outputs": [],
   "source": [
    "type(test_completo)"
   ]
  },
  {
   "cell_type": "code",
   "execution_count": null,
   "id": "b40c3845",
   "metadata": {},
   "outputs": [],
   "source": [
    "test_pandas = h2o.as_list(test_completo)\n",
    "type(test_pandas)"
   ]
  },
  {
   "cell_type": "code",
   "execution_count": null,
   "id": "cdb0902b",
   "metadata": {},
   "outputs": [],
   "source": [
    "type(respuestas)"
   ]
  },
  {
   "cell_type": "code",
   "execution_count": null,
   "id": "52f7dd62",
   "metadata": {},
   "outputs": [],
   "source": [
    "sample.shape"
   ]
  },
  {
   "cell_type": "code",
   "execution_count": null,
   "id": "3551dd1b",
   "metadata": {},
   "outputs": [],
   "source": [
    "sample.columns"
   ]
  },
  {
   "cell_type": "code",
   "execution_count": null,
   "id": "867fd980",
   "metadata": {},
   "outputs": [],
   "source": [
    "sample.sample()"
   ]
  },
  {
   "cell_type": "code",
   "execution_count": null,
   "id": "ca61a2e0",
   "metadata": {},
   "outputs": [],
   "source": []
  },
  {
   "cell_type": "code",
   "execution_count": null,
   "id": "3ae2113b",
   "metadata": {},
   "outputs": [],
   "source": []
  }
 ],
 "metadata": {
  "interpreter": {
   "hash": "4d7f37effd978c980551fd44ee854e32fa996577b4c3426a2d70d85603639086"
  },
  "kernelspec": {
   "display_name": "EDA",
   "language": "python",
   "name": "eda"
  },
  "language_info": {
   "codemirror_mode": {
    "name": "ipython",
    "version": 3
   },
   "file_extension": ".py",
   "mimetype": "text/x-python",
   "name": "python",
   "nbconvert_exporter": "python",
   "pygments_lexer": "ipython3",
   "version": "3.9.5"
  }
 },
 "nbformat": 4,
 "nbformat_minor": 5
}
