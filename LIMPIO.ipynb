{
 "cells": [
  {
   "cell_type": "markdown",
   "id": "0f60771e",
   "metadata": {},
   "source": [
    "### EDA"
   ]
  },
  {
   "cell_type": "code",
   "execution_count": 278,
   "id": "8e78e0bb",
   "metadata": {},
   "outputs": [],
   "source": [
    "import numpy as np\n",
    "import pandas as pd\n",
    "import re\n",
    "import matplotlib.pyplot as plt\n",
    "from sklearn.cluster import DBSCAN\n",
    "from hdbscan import HDBSCAN\n",
    "import seaborn as sns"
   ]
  },
  {
   "cell_type": "markdown",
   "id": "13ed8bbf",
   "metadata": {},
   "source": [
    "Loading dataset we'll be training with:"
   ]
  },
  {
   "cell_type": "code",
   "execution_count": 279,
   "id": "62213a48",
   "metadata": {},
   "outputs": [],
   "source": [
    "train = pd.read_csv('data/train.csv.zip')"
   ]
  },
  {
   "cell_type": "code",
   "execution_count": 280,
   "id": "34aebfcc",
   "metadata": {},
   "outputs": [
    {
     "data": {
      "text/plain": [
       "Index(['id', 'listing_url', 'scrape_id', 'last_scraped', 'name', 'description',\n",
       "       'neighborhood_overview', 'picture_url', 'host_id', 'host_url',\n",
       "       'host_name', 'host_since', 'host_location', 'host_about',\n",
       "       'host_response_time', 'host_response_rate', 'host_acceptance_rate',\n",
       "       'host_is_superhost', 'host_thumbnail_url', 'host_picture_url',\n",
       "       'host_neighbourhood', 'host_listings_count',\n",
       "       'host_total_listings_count', 'host_verifications',\n",
       "       'host_has_profile_pic', 'host_identity_verified', 'neighbourhood',\n",
       "       'neighbourhood_cleansed', 'neighbourhood_group_cleansed', 'latitude',\n",
       "       'longitude', 'property_type', 'room_type', 'accommodates', 'bathrooms',\n",
       "       'bathrooms_text', 'bedrooms', 'beds', 'amenities', 'price',\n",
       "       'minimum_nights', 'maximum_nights', 'minimum_minimum_nights',\n",
       "       'maximum_minimum_nights', 'minimum_maximum_nights',\n",
       "       'maximum_maximum_nights', 'minimum_nights_avg_ntm',\n",
       "       'maximum_nights_avg_ntm', 'calendar_updated', 'has_availability',\n",
       "       'availability_30', 'availability_60', 'availability_90',\n",
       "       'availability_365', 'calendar_last_scraped', 'number_of_reviews',\n",
       "       'number_of_reviews_ltm', 'number_of_reviews_l30d', 'first_review',\n",
       "       'last_review', 'review_scores_rating', 'review_scores_accuracy',\n",
       "       'review_scores_cleanliness', 'review_scores_checkin',\n",
       "       'review_scores_communication', 'review_scores_location',\n",
       "       'review_scores_value', 'license', 'instant_bookable',\n",
       "       'calculated_host_listings_count',\n",
       "       'calculated_host_listings_count_entire_homes',\n",
       "       'calculated_host_listings_count_private_rooms',\n",
       "       'calculated_host_listings_count_shared_rooms', 'reviews_per_month'],\n",
       "      dtype='object')"
      ]
     },
     "execution_count": 280,
     "metadata": {},
     "output_type": "execute_result"
    }
   ],
   "source": [
    "train.shape #4167 rows & 74 columns\n",
    "train.columns"
   ]
  },
  {
   "cell_type": "markdown",
   "id": "1e4d08c6",
   "metadata": {},
   "source": [
    "As it's quite large, let's tweak pd options to dive into our dataset comfortably. This way we can display columns/rows desired with no kind of restriction."
   ]
  },
  {
   "cell_type": "code",
   "execution_count": 281,
   "id": "9d70da7d",
   "metadata": {},
   "outputs": [],
   "source": [
    "pd.set_option('display.max_columns', None)\n",
    "pd.set_option('display.max_rows', None)"
   ]
  },
  {
   "cell_type": "markdown",
   "id": "5b0af3cb",
   "metadata": {},
   "source": [
    " ## Looking @ our target"
   ]
  },
  {
   "cell_type": "code",
   "execution_count": 282,
   "id": "cb0a4476",
   "metadata": {},
   "outputs": [
    {
     "data": {
      "text/plain": [
       "count    4167.000000\n",
       "mean      168.676986\n",
       "std       180.658555\n",
       "min         0.000000\n",
       "25%        98.000000\n",
       "50%       138.000000\n",
       "75%       200.000000\n",
       "max      6477.000000\n",
       "Name: price, dtype: float64"
      ]
     },
     "execution_count": 282,
     "metadata": {},
     "output_type": "execute_result"
    }
   ],
   "source": [
    "train['price'].describe()"
   ]
  },
  {
   "cell_type": "code",
   "execution_count": 283,
   "id": "3a8a7c95",
   "metadata": {
    "scrolled": false
   },
   "outputs": [
    {
     "data": {
      "text/plain": [
       "(6477.0, 0.0)"
      ]
     },
     "execution_count": 283,
     "metadata": {},
     "output_type": "execute_result"
    }
   ],
   "source": [
    "train['price'].max(),train['price'].min() # FREE acomodations!! yay!! - probably scrape error"
   ]
  },
  {
   "cell_type": "code",
   "execution_count": 284,
   "id": "6a4caf41",
   "metadata": {
    "scrolled": false
   },
   "outputs": [
    {
     "data": {
      "text/html": [
       "<div>\n",
       "<style scoped>\n",
       "    .dataframe tbody tr th:only-of-type {\n",
       "        vertical-align: middle;\n",
       "    }\n",
       "\n",
       "    .dataframe tbody tr th {\n",
       "        vertical-align: top;\n",
       "    }\n",
       "\n",
       "    .dataframe thead th {\n",
       "        text-align: right;\n",
       "    }\n",
       "</style>\n",
       "<table border=\"1\" class=\"dataframe\">\n",
       "  <thead>\n",
       "    <tr style=\"text-align: right;\">\n",
       "      <th></th>\n",
       "      <th>id</th>\n",
       "      <th>listing_url</th>\n",
       "      <th>scrape_id</th>\n",
       "      <th>last_scraped</th>\n",
       "      <th>name</th>\n",
       "      <th>description</th>\n",
       "      <th>neighborhood_overview</th>\n",
       "      <th>picture_url</th>\n",
       "      <th>host_id</th>\n",
       "      <th>host_url</th>\n",
       "      <th>host_name</th>\n",
       "      <th>host_since</th>\n",
       "      <th>host_location</th>\n",
       "      <th>host_about</th>\n",
       "      <th>host_response_time</th>\n",
       "      <th>host_response_rate</th>\n",
       "      <th>host_acceptance_rate</th>\n",
       "      <th>host_is_superhost</th>\n",
       "      <th>host_thumbnail_url</th>\n",
       "      <th>host_picture_url</th>\n",
       "      <th>host_neighbourhood</th>\n",
       "      <th>host_listings_count</th>\n",
       "      <th>host_total_listings_count</th>\n",
       "      <th>host_verifications</th>\n",
       "      <th>host_has_profile_pic</th>\n",
       "      <th>host_identity_verified</th>\n",
       "      <th>neighbourhood</th>\n",
       "      <th>neighbourhood_cleansed</th>\n",
       "      <th>neighbourhood_group_cleansed</th>\n",
       "      <th>latitude</th>\n",
       "      <th>longitude</th>\n",
       "      <th>property_type</th>\n",
       "      <th>room_type</th>\n",
       "      <th>accommodates</th>\n",
       "      <th>bathrooms</th>\n",
       "      <th>bathrooms_text</th>\n",
       "      <th>bedrooms</th>\n",
       "      <th>beds</th>\n",
       "      <th>amenities</th>\n",
       "      <th>price</th>\n",
       "      <th>minimum_nights</th>\n",
       "      <th>maximum_nights</th>\n",
       "      <th>minimum_minimum_nights</th>\n",
       "      <th>maximum_minimum_nights</th>\n",
       "      <th>minimum_maximum_nights</th>\n",
       "      <th>maximum_maximum_nights</th>\n",
       "      <th>minimum_nights_avg_ntm</th>\n",
       "      <th>maximum_nights_avg_ntm</th>\n",
       "      <th>calendar_updated</th>\n",
       "      <th>has_availability</th>\n",
       "      <th>availability_30</th>\n",
       "      <th>availability_60</th>\n",
       "      <th>availability_90</th>\n",
       "      <th>availability_365</th>\n",
       "      <th>calendar_last_scraped</th>\n",
       "      <th>number_of_reviews</th>\n",
       "      <th>number_of_reviews_ltm</th>\n",
       "      <th>number_of_reviews_l30d</th>\n",
       "      <th>first_review</th>\n",
       "      <th>last_review</th>\n",
       "      <th>review_scores_rating</th>\n",
       "      <th>review_scores_accuracy</th>\n",
       "      <th>review_scores_cleanliness</th>\n",
       "      <th>review_scores_checkin</th>\n",
       "      <th>review_scores_communication</th>\n",
       "      <th>review_scores_location</th>\n",
       "      <th>review_scores_value</th>\n",
       "      <th>license</th>\n",
       "      <th>instant_bookable</th>\n",
       "      <th>calculated_host_listings_count</th>\n",
       "      <th>calculated_host_listings_count_entire_homes</th>\n",
       "      <th>calculated_host_listings_count_private_rooms</th>\n",
       "      <th>calculated_host_listings_count_shared_rooms</th>\n",
       "      <th>reviews_per_month</th>\n",
       "    </tr>\n",
       "  </thead>\n",
       "  <tbody>\n",
       "    <tr>\n",
       "      <th>190</th>\n",
       "      <td>190</td>\n",
       "      <td>https://www.airbnb.com/rooms/42431450</td>\n",
       "      <td>20211205213126</td>\n",
       "      <td>2021-12-05</td>\n",
       "      <td>Melrose Hotel</td>\n",
       "      <td>NaN</td>\n",
       "      <td>NaN</td>\n",
       "      <td>https://a0.muscache.com/pictures/92796479-d704...</td>\n",
       "      <td>311321908</td>\n",
       "      <td>https://www.airbnb.com/users/show/311321908</td>\n",
       "      <td>Melrose Hotel</td>\n",
       "      <td>2019-11-22</td>\n",
       "      <td>NL</td>\n",
       "      <td>NaN</td>\n",
       "      <td>within an hour</td>\n",
       "      <td>100%</td>\n",
       "      <td>100%</td>\n",
       "      <td>f</td>\n",
       "      <td>https://a0.muscache.com/im/pictures/user/5e591...</td>\n",
       "      <td>https://a0.muscache.com/im/pictures/user/5e591...</td>\n",
       "      <td>NaN</td>\n",
       "      <td>9</td>\n",
       "      <td>9</td>\n",
       "      <td>['email', 'phone', 'jumio', 'offline_governmen...</td>\n",
       "      <td>t</td>\n",
       "      <td>t</td>\n",
       "      <td>NaN</td>\n",
       "      <td>Centrum-West</td>\n",
       "      <td>NaN</td>\n",
       "      <td>52.369640</td>\n",
       "      <td>4.880040</td>\n",
       "      <td>Room in hotel</td>\n",
       "      <td>Hotel room</td>\n",
       "      <td>4</td>\n",
       "      <td>NaN</td>\n",
       "      <td>NaN</td>\n",
       "      <td>NaN</td>\n",
       "      <td>NaN</td>\n",
       "      <td>[\"Air conditioning\", \"Bed sheets and pillows\",...</td>\n",
       "      <td>0.0</td>\n",
       "      <td>1</td>\n",
       "      <td>365</td>\n",
       "      <td>1.0</td>\n",
       "      <td>1.0</td>\n",
       "      <td>365.0</td>\n",
       "      <td>365.0</td>\n",
       "      <td>1.0</td>\n",
       "      <td>365.0</td>\n",
       "      <td>NaN</td>\n",
       "      <td>t</td>\n",
       "      <td>0</td>\n",
       "      <td>0</td>\n",
       "      <td>0</td>\n",
       "      <td>0</td>\n",
       "      <td>2021-12-05</td>\n",
       "      <td>6</td>\n",
       "      <td>5</td>\n",
       "      <td>0</td>\n",
       "      <td>2020-11-16</td>\n",
       "      <td>2021-10-22</td>\n",
       "      <td>4.17</td>\n",
       "      <td>4.17</td>\n",
       "      <td>4.33</td>\n",
       "      <td>4.67</td>\n",
       "      <td>4.33</td>\n",
       "      <td>4.83</td>\n",
       "      <td>3.83</td>\n",
       "      <td>NaN</td>\n",
       "      <td>f</td>\n",
       "      <td>4</td>\n",
       "      <td>0</td>\n",
       "      <td>3</td>\n",
       "      <td>0</td>\n",
       "      <td>0.47</td>\n",
       "    </tr>\n",
       "    <tr>\n",
       "      <th>437</th>\n",
       "      <td>437</td>\n",
       "      <td>https://www.airbnb.com/rooms/42431273</td>\n",
       "      <td>20211205213126</td>\n",
       "      <td>2021-12-06</td>\n",
       "      <td>Hotel Abba</td>\n",
       "      <td>NaN</td>\n",
       "      <td>NaN</td>\n",
       "      <td>https://a0.muscache.com/pictures/8b8ce867-afeb...</td>\n",
       "      <td>309119467</td>\n",
       "      <td>https://www.airbnb.com/users/show/309119467</td>\n",
       "      <td>Hotel Abba</td>\n",
       "      <td>2019-11-13</td>\n",
       "      <td>NL</td>\n",
       "      <td>NaN</td>\n",
       "      <td>within an hour</td>\n",
       "      <td>100%</td>\n",
       "      <td>100%</td>\n",
       "      <td>f</td>\n",
       "      <td>https://a0.muscache.com/im/pictures/user/5b13d...</td>\n",
       "      <td>https://a0.muscache.com/im/pictures/user/5b13d...</td>\n",
       "      <td>Oud-West</td>\n",
       "      <td>6</td>\n",
       "      <td>6</td>\n",
       "      <td>['email', 'phone']</td>\n",
       "      <td>t</td>\n",
       "      <td>t</td>\n",
       "      <td>NaN</td>\n",
       "      <td>De Baarsjes - Oud-West</td>\n",
       "      <td>NaN</td>\n",
       "      <td>52.362790</td>\n",
       "      <td>4.874580</td>\n",
       "      <td>Room in hotel</td>\n",
       "      <td>Hotel room</td>\n",
       "      <td>3</td>\n",
       "      <td>NaN</td>\n",
       "      <td>NaN</td>\n",
       "      <td>NaN</td>\n",
       "      <td>NaN</td>\n",
       "      <td>[\"Bed sheets and pillows\", \"Luggage dropoff al...</td>\n",
       "      <td>0.0</td>\n",
       "      <td>1</td>\n",
       "      <td>365</td>\n",
       "      <td>1.0</td>\n",
       "      <td>1.0</td>\n",
       "      <td>1125.0</td>\n",
       "      <td>1125.0</td>\n",
       "      <td>1.0</td>\n",
       "      <td>1125.0</td>\n",
       "      <td>NaN</td>\n",
       "      <td>t</td>\n",
       "      <td>0</td>\n",
       "      <td>0</td>\n",
       "      <td>0</td>\n",
       "      <td>0</td>\n",
       "      <td>2021-12-06</td>\n",
       "      <td>0</td>\n",
       "      <td>0</td>\n",
       "      <td>0</td>\n",
       "      <td>NaN</td>\n",
       "      <td>NaN</td>\n",
       "      <td>NaN</td>\n",
       "      <td>NaN</td>\n",
       "      <td>NaN</td>\n",
       "      <td>NaN</td>\n",
       "      <td>NaN</td>\n",
       "      <td>NaN</td>\n",
       "      <td>NaN</td>\n",
       "      <td>NaN</td>\n",
       "      <td>f</td>\n",
       "      <td>1</td>\n",
       "      <td>0</td>\n",
       "      <td>0</td>\n",
       "      <td>0</td>\n",
       "      <td>NaN</td>\n",
       "    </tr>\n",
       "    <tr>\n",
       "      <th>1763</th>\n",
       "      <td>1763</td>\n",
       "      <td>https://www.airbnb.com/rooms/47110768</td>\n",
       "      <td>20211205213126</td>\n",
       "      <td>2021-12-05</td>\n",
       "      <td>Sir Albert</td>\n",
       "      <td>NaN</td>\n",
       "      <td>NaN</td>\n",
       "      <td>https://a0.muscache.com/pictures/miso/Hosting-...</td>\n",
       "      <td>380676508</td>\n",
       "      <td>https://www.airbnb.com/users/show/380676508</td>\n",
       "      <td>Sircle</td>\n",
       "      <td>2020-12-18</td>\n",
       "      <td>Amsterdam, North Holland, Netherlands</td>\n",
       "      <td>We are a collection of creative hospitality br...</td>\n",
       "      <td>NaN</td>\n",
       "      <td>NaN</td>\n",
       "      <td>100%</td>\n",
       "      <td>f</td>\n",
       "      <td>https://a0.muscache.com/im/pictures/user/bdea7...</td>\n",
       "      <td>https://a0.muscache.com/im/pictures/user/bdea7...</td>\n",
       "      <td>NaN</td>\n",
       "      <td>5</td>\n",
       "      <td>5</td>\n",
       "      <td>['email', 'phone']</td>\n",
       "      <td>t</td>\n",
       "      <td>t</td>\n",
       "      <td>NaN</td>\n",
       "      <td>De Pijp - Rivierenbuurt</td>\n",
       "      <td>NaN</td>\n",
       "      <td>52.355585</td>\n",
       "      <td>4.887072</td>\n",
       "      <td>Room in boutique hotel</td>\n",
       "      <td>Hotel room</td>\n",
       "      <td>0</td>\n",
       "      <td>NaN</td>\n",
       "      <td>NaN</td>\n",
       "      <td>NaN</td>\n",
       "      <td>NaN</td>\n",
       "      <td>[\"Air conditioning\", \"Luggage dropoff allowed\"...</td>\n",
       "      <td>0.0</td>\n",
       "      <td>1</td>\n",
       "      <td>365</td>\n",
       "      <td>1.0</td>\n",
       "      <td>1.0</td>\n",
       "      <td>1125.0</td>\n",
       "      <td>1125.0</td>\n",
       "      <td>1.0</td>\n",
       "      <td>1125.0</td>\n",
       "      <td>NaN</td>\n",
       "      <td>f</td>\n",
       "      <td>0</td>\n",
       "      <td>0</td>\n",
       "      <td>0</td>\n",
       "      <td>0</td>\n",
       "      <td>2021-12-05</td>\n",
       "      <td>1</td>\n",
       "      <td>1</td>\n",
       "      <td>0</td>\n",
       "      <td>2021-01-17</td>\n",
       "      <td>2021-01-17</td>\n",
       "      <td>5.00</td>\n",
       "      <td>4.00</td>\n",
       "      <td>5.00</td>\n",
       "      <td>5.00</td>\n",
       "      <td>5.00</td>\n",
       "      <td>5.00</td>\n",
       "      <td>5.00</td>\n",
       "      <td>NaN</td>\n",
       "      <td>f</td>\n",
       "      <td>1</td>\n",
       "      <td>0</td>\n",
       "      <td>0</td>\n",
       "      <td>0</td>\n",
       "      <td>0.09</td>\n",
       "    </tr>\n",
       "    <tr>\n",
       "      <th>2739</th>\n",
       "      <td>2739</td>\n",
       "      <td>https://www.airbnb.com/rooms/45478851</td>\n",
       "      <td>20211205213126</td>\n",
       "      <td>2021-12-06</td>\n",
       "      <td>The Delphi - Amsterdam Townhouse</td>\n",
       "      <td>NaN</td>\n",
       "      <td>NaN</td>\n",
       "      <td>https://a0.muscache.com/pictures/miso/Hosting-...</td>\n",
       "      <td>367980459</td>\n",
       "      <td>https://www.airbnb.com/users/show/367980459</td>\n",
       "      <td>The Delphi</td>\n",
       "      <td>2020-09-17</td>\n",
       "      <td>NL</td>\n",
       "      <td>NaN</td>\n",
       "      <td>within an hour</td>\n",
       "      <td>100%</td>\n",
       "      <td>0%</td>\n",
       "      <td>f</td>\n",
       "      <td>https://a0.muscache.com/im/pictures/user/2ed1d...</td>\n",
       "      <td>https://a0.muscache.com/im/pictures/user/2ed1d...</td>\n",
       "      <td>NaN</td>\n",
       "      <td>0</td>\n",
       "      <td>0</td>\n",
       "      <td>['email', 'phone']</td>\n",
       "      <td>t</td>\n",
       "      <td>t</td>\n",
       "      <td>NaN</td>\n",
       "      <td>Zuid</td>\n",
       "      <td>NaN</td>\n",
       "      <td>52.350460</td>\n",
       "      <td>4.876840</td>\n",
       "      <td>Room in boutique hotel</td>\n",
       "      <td>Hotel room</td>\n",
       "      <td>0</td>\n",
       "      <td>NaN</td>\n",
       "      <td>NaN</td>\n",
       "      <td>NaN</td>\n",
       "      <td>NaN</td>\n",
       "      <td>[\"Air conditioning\", \"Hangers\", \"Iron\", \"Coffe...</td>\n",
       "      <td>0.0</td>\n",
       "      <td>1</td>\n",
       "      <td>365</td>\n",
       "      <td>NaN</td>\n",
       "      <td>NaN</td>\n",
       "      <td>NaN</td>\n",
       "      <td>NaN</td>\n",
       "      <td>NaN</td>\n",
       "      <td>NaN</td>\n",
       "      <td>NaN</td>\n",
       "      <td>t</td>\n",
       "      <td>0</td>\n",
       "      <td>0</td>\n",
       "      <td>0</td>\n",
       "      <td>0</td>\n",
       "      <td>2021-12-06</td>\n",
       "      <td>0</td>\n",
       "      <td>0</td>\n",
       "      <td>0</td>\n",
       "      <td>NaN</td>\n",
       "      <td>NaN</td>\n",
       "      <td>NaN</td>\n",
       "      <td>NaN</td>\n",
       "      <td>NaN</td>\n",
       "      <td>NaN</td>\n",
       "      <td>NaN</td>\n",
       "      <td>NaN</td>\n",
       "      <td>NaN</td>\n",
       "      <td>NaN</td>\n",
       "      <td>f</td>\n",
       "      <td>1</td>\n",
       "      <td>0</td>\n",
       "      <td>0</td>\n",
       "      <td>0</td>\n",
       "      <td>NaN</td>\n",
       "    </tr>\n",
       "  </tbody>\n",
       "</table>\n",
       "</div>"
      ],
      "text/plain": [
       "        id                            listing_url       scrape_id  \\\n",
       "190    190  https://www.airbnb.com/rooms/42431450  20211205213126   \n",
       "437    437  https://www.airbnb.com/rooms/42431273  20211205213126   \n",
       "1763  1763  https://www.airbnb.com/rooms/47110768  20211205213126   \n",
       "2739  2739  https://www.airbnb.com/rooms/45478851  20211205213126   \n",
       "\n",
       "     last_scraped                              name description  \\\n",
       "190    2021-12-05                     Melrose Hotel         NaN   \n",
       "437    2021-12-06                        Hotel Abba         NaN   \n",
       "1763   2021-12-05                        Sir Albert         NaN   \n",
       "2739   2021-12-06  The Delphi - Amsterdam Townhouse         NaN   \n",
       "\n",
       "     neighborhood_overview                                        picture_url  \\\n",
       "190                    NaN  https://a0.muscache.com/pictures/92796479-d704...   \n",
       "437                    NaN  https://a0.muscache.com/pictures/8b8ce867-afeb...   \n",
       "1763                   NaN  https://a0.muscache.com/pictures/miso/Hosting-...   \n",
       "2739                   NaN  https://a0.muscache.com/pictures/miso/Hosting-...   \n",
       "\n",
       "        host_id                                     host_url      host_name  \\\n",
       "190   311321908  https://www.airbnb.com/users/show/311321908  Melrose Hotel   \n",
       "437   309119467  https://www.airbnb.com/users/show/309119467     Hotel Abba   \n",
       "1763  380676508  https://www.airbnb.com/users/show/380676508         Sircle   \n",
       "2739  367980459  https://www.airbnb.com/users/show/367980459     The Delphi   \n",
       "\n",
       "      host_since                          host_location  \\\n",
       "190   2019-11-22                                     NL   \n",
       "437   2019-11-13                                     NL   \n",
       "1763  2020-12-18  Amsterdam, North Holland, Netherlands   \n",
       "2739  2020-09-17                                     NL   \n",
       "\n",
       "                                             host_about host_response_time  \\\n",
       "190                                                 NaN     within an hour   \n",
       "437                                                 NaN     within an hour   \n",
       "1763  We are a collection of creative hospitality br...                NaN   \n",
       "2739                                                NaN     within an hour   \n",
       "\n",
       "     host_response_rate host_acceptance_rate host_is_superhost  \\\n",
       "190                100%                 100%                 f   \n",
       "437                100%                 100%                 f   \n",
       "1763                NaN                 100%                 f   \n",
       "2739               100%                   0%                 f   \n",
       "\n",
       "                                     host_thumbnail_url  \\\n",
       "190   https://a0.muscache.com/im/pictures/user/5e591...   \n",
       "437   https://a0.muscache.com/im/pictures/user/5b13d...   \n",
       "1763  https://a0.muscache.com/im/pictures/user/bdea7...   \n",
       "2739  https://a0.muscache.com/im/pictures/user/2ed1d...   \n",
       "\n",
       "                                       host_picture_url host_neighbourhood  \\\n",
       "190   https://a0.muscache.com/im/pictures/user/5e591...                NaN   \n",
       "437   https://a0.muscache.com/im/pictures/user/5b13d...           Oud-West   \n",
       "1763  https://a0.muscache.com/im/pictures/user/bdea7...                NaN   \n",
       "2739  https://a0.muscache.com/im/pictures/user/2ed1d...                NaN   \n",
       "\n",
       "      host_listings_count  host_total_listings_count  \\\n",
       "190                     9                          9   \n",
       "437                     6                          6   \n",
       "1763                    5                          5   \n",
       "2739                    0                          0   \n",
       "\n",
       "                                     host_verifications host_has_profile_pic  \\\n",
       "190   ['email', 'phone', 'jumio', 'offline_governmen...                    t   \n",
       "437                                  ['email', 'phone']                    t   \n",
       "1763                                 ['email', 'phone']                    t   \n",
       "2739                                 ['email', 'phone']                    t   \n",
       "\n",
       "     host_identity_verified neighbourhood   neighbourhood_cleansed  \\\n",
       "190                       t           NaN             Centrum-West   \n",
       "437                       t           NaN   De Baarsjes - Oud-West   \n",
       "1763                      t           NaN  De Pijp - Rivierenbuurt   \n",
       "2739                      t           NaN                     Zuid   \n",
       "\n",
       "      neighbourhood_group_cleansed   latitude  longitude  \\\n",
       "190                            NaN  52.369640   4.880040   \n",
       "437                            NaN  52.362790   4.874580   \n",
       "1763                           NaN  52.355585   4.887072   \n",
       "2739                           NaN  52.350460   4.876840   \n",
       "\n",
       "               property_type   room_type  accommodates  bathrooms  \\\n",
       "190            Room in hotel  Hotel room             4        NaN   \n",
       "437            Room in hotel  Hotel room             3        NaN   \n",
       "1763  Room in boutique hotel  Hotel room             0        NaN   \n",
       "2739  Room in boutique hotel  Hotel room             0        NaN   \n",
       "\n",
       "     bathrooms_text  bedrooms  beds  \\\n",
       "190             NaN       NaN   NaN   \n",
       "437             NaN       NaN   NaN   \n",
       "1763            NaN       NaN   NaN   \n",
       "2739            NaN       NaN   NaN   \n",
       "\n",
       "                                              amenities  price  \\\n",
       "190   [\"Air conditioning\", \"Bed sheets and pillows\",...    0.0   \n",
       "437   [\"Bed sheets and pillows\", \"Luggage dropoff al...    0.0   \n",
       "1763  [\"Air conditioning\", \"Luggage dropoff allowed\"...    0.0   \n",
       "2739  [\"Air conditioning\", \"Hangers\", \"Iron\", \"Coffe...    0.0   \n",
       "\n",
       "      minimum_nights  maximum_nights  minimum_minimum_nights  \\\n",
       "190                1             365                     1.0   \n",
       "437                1             365                     1.0   \n",
       "1763               1             365                     1.0   \n",
       "2739               1             365                     NaN   \n",
       "\n",
       "      maximum_minimum_nights  minimum_maximum_nights  maximum_maximum_nights  \\\n",
       "190                      1.0                   365.0                   365.0   \n",
       "437                      1.0                  1125.0                  1125.0   \n",
       "1763                     1.0                  1125.0                  1125.0   \n",
       "2739                     NaN                     NaN                     NaN   \n",
       "\n",
       "      minimum_nights_avg_ntm  maximum_nights_avg_ntm  calendar_updated  \\\n",
       "190                      1.0                   365.0               NaN   \n",
       "437                      1.0                  1125.0               NaN   \n",
       "1763                     1.0                  1125.0               NaN   \n",
       "2739                     NaN                     NaN               NaN   \n",
       "\n",
       "     has_availability  availability_30  availability_60  availability_90  \\\n",
       "190                 t                0                0                0   \n",
       "437                 t                0                0                0   \n",
       "1763                f                0                0                0   \n",
       "2739                t                0                0                0   \n",
       "\n",
       "      availability_365 calendar_last_scraped  number_of_reviews  \\\n",
       "190                  0            2021-12-05                  6   \n",
       "437                  0            2021-12-06                  0   \n",
       "1763                 0            2021-12-05                  1   \n",
       "2739                 0            2021-12-06                  0   \n",
       "\n",
       "      number_of_reviews_ltm  number_of_reviews_l30d first_review last_review  \\\n",
       "190                       5                       0   2020-11-16  2021-10-22   \n",
       "437                       0                       0          NaN         NaN   \n",
       "1763                      1                       0   2021-01-17  2021-01-17   \n",
       "2739                      0                       0          NaN         NaN   \n",
       "\n",
       "      review_scores_rating  review_scores_accuracy  review_scores_cleanliness  \\\n",
       "190                   4.17                    4.17                       4.33   \n",
       "437                    NaN                     NaN                        NaN   \n",
       "1763                  5.00                    4.00                       5.00   \n",
       "2739                   NaN                     NaN                        NaN   \n",
       "\n",
       "      review_scores_checkin  review_scores_communication  \\\n",
       "190                    4.67                         4.33   \n",
       "437                     NaN                          NaN   \n",
       "1763                   5.00                         5.00   \n",
       "2739                    NaN                          NaN   \n",
       "\n",
       "      review_scores_location  review_scores_value license instant_bookable  \\\n",
       "190                     4.83                 3.83     NaN                f   \n",
       "437                      NaN                  NaN     NaN                f   \n",
       "1763                    5.00                 5.00     NaN                f   \n",
       "2739                     NaN                  NaN     NaN                f   \n",
       "\n",
       "      calculated_host_listings_count  \\\n",
       "190                                4   \n",
       "437                                1   \n",
       "1763                               1   \n",
       "2739                               1   \n",
       "\n",
       "      calculated_host_listings_count_entire_homes  \\\n",
       "190                                             0   \n",
       "437                                             0   \n",
       "1763                                            0   \n",
       "2739                                            0   \n",
       "\n",
       "      calculated_host_listings_count_private_rooms  \\\n",
       "190                                              3   \n",
       "437                                              0   \n",
       "1763                                             0   \n",
       "2739                                             0   \n",
       "\n",
       "      calculated_host_listings_count_shared_rooms  reviews_per_month  \n",
       "190                                             0               0.47  \n",
       "437                                             0                NaN  \n",
       "1763                                            0               0.09  \n",
       "2739                                            0                NaN  "
      ]
     },
     "execution_count": 284,
     "metadata": {},
     "output_type": "execute_result"
    }
   ],
   "source": [
    "train[train['price'] == 0] #4 free acomodations"
   ]
  },
  {
   "cell_type": "markdown",
   "id": "e2f21f87",
   "metadata": {},
   "source": [
    "Quick histplot of prices"
   ]
  },
  {
   "cell_type": "code",
   "execution_count": 285,
   "id": "7fa676e7",
   "metadata": {},
   "outputs": [
    {
     "data": {
      "text/plain": [
       "<AxesSubplot:>"
      ]
     },
     "execution_count": 285,
     "metadata": {},
     "output_type": "execute_result"
    },
    {
     "data": {
      "image/png": "[encoded data removed]",
      "text/plain": [
       "<Figure size 432x288 with 1 Axes>"
      ]
     },
     "metadata": {
      "needs_background": "light"
     },
     "output_type": "display_data"
    }
   ],
   "source": [
    "prices = pd.cut(train['price'],\n",
    "                bins = [0, 50, 100, 150, 200, 250, train[\"price\"].max()],\n",
    "                labels=[\"0-50\", \"50-100\", \"100-150\", \"150-200\", \"200-250\", \"+250\"])\n",
    " \n",
    "prices.value_counts().sort_index().plot(kind=\"bar\", rot = 0)"
   ]
  },
  {
   "cell_type": "code",
   "execution_count": 286,
   "id": "81824e7e",
   "metadata": {},
   "outputs": [
    {
     "data": {
      "text/plain": [
       "0.8682505399568035"
      ]
     },
     "execution_count": 286,
     "metadata": {},
     "output_type": "execute_result"
    }
   ],
   "source": [
    "mayoria = train[train['price']<=250].shape[0]\n",
    "total = train.shape[0]\n",
    "mayoria/total #Casi el 87% de los precios estan por debajo de 250€"
   ]
  },
  {
   "cell_type": "markdown",
   "id": "e288ce66",
   "metadata": {},
   "source": [
    "### LOOKING @ COLUMNS"
   ]
  },
  {
   "cell_type": "markdown",
   "id": "f4a381b7",
   "metadata": {},
   "source": [
    "How does our df's rows look like?\n",
    "Just like <code>df.head(1)</code>, but nicer ;)"
   ]
  },
  {
   "cell_type": "code",
   "execution_count": 287,
   "id": "7c65a7c4",
   "metadata": {},
   "outputs": [
    {
     "data": {
      "text/html": [
       "<div>\n",
       "<style scoped>\n",
       "    .dataframe tbody tr th:only-of-type {\n",
       "        vertical-align: middle;\n",
       "    }\n",
       "\n",
       "    .dataframe tbody tr th {\n",
       "        vertical-align: top;\n",
       "    }\n",
       "\n",
       "    .dataframe thead th {\n",
       "        text-align: right;\n",
       "    }\n",
       "</style>\n",
       "<table border=\"1\" class=\"dataframe\">\n",
       "  <thead>\n",
       "    <tr style=\"text-align: right;\">\n",
       "      <th></th>\n",
       "      <th>id</th>\n",
       "      <th>listing_url</th>\n",
       "      <th>scrape_id</th>\n",
       "      <th>last_scraped</th>\n",
       "      <th>name</th>\n",
       "      <th>description</th>\n",
       "      <th>neighborhood_overview</th>\n",
       "      <th>picture_url</th>\n",
       "      <th>host_id</th>\n",
       "      <th>host_url</th>\n",
       "      <th>host_name</th>\n",
       "      <th>host_since</th>\n",
       "      <th>host_location</th>\n",
       "      <th>host_about</th>\n",
       "      <th>host_response_time</th>\n",
       "      <th>host_response_rate</th>\n",
       "      <th>host_acceptance_rate</th>\n",
       "      <th>host_is_superhost</th>\n",
       "      <th>host_thumbnail_url</th>\n",
       "      <th>host_picture_url</th>\n",
       "      <th>host_neighbourhood</th>\n",
       "      <th>host_listings_count</th>\n",
       "      <th>host_total_listings_count</th>\n",
       "      <th>host_verifications</th>\n",
       "      <th>host_has_profile_pic</th>\n",
       "      <th>host_identity_verified</th>\n",
       "      <th>neighbourhood</th>\n",
       "      <th>neighbourhood_cleansed</th>\n",
       "      <th>neighbourhood_group_cleansed</th>\n",
       "      <th>latitude</th>\n",
       "      <th>longitude</th>\n",
       "      <th>property_type</th>\n",
       "      <th>room_type</th>\n",
       "      <th>accommodates</th>\n",
       "      <th>bathrooms</th>\n",
       "      <th>bathrooms_text</th>\n",
       "      <th>bedrooms</th>\n",
       "      <th>beds</th>\n",
       "      <th>amenities</th>\n",
       "      <th>price</th>\n",
       "      <th>minimum_nights</th>\n",
       "      <th>maximum_nights</th>\n",
       "      <th>minimum_minimum_nights</th>\n",
       "      <th>maximum_minimum_nights</th>\n",
       "      <th>minimum_maximum_nights</th>\n",
       "      <th>maximum_maximum_nights</th>\n",
       "      <th>minimum_nights_avg_ntm</th>\n",
       "      <th>maximum_nights_avg_ntm</th>\n",
       "      <th>calendar_updated</th>\n",
       "      <th>has_availability</th>\n",
       "      <th>availability_30</th>\n",
       "      <th>availability_60</th>\n",
       "      <th>availability_90</th>\n",
       "      <th>availability_365</th>\n",
       "      <th>calendar_last_scraped</th>\n",
       "      <th>number_of_reviews</th>\n",
       "      <th>number_of_reviews_ltm</th>\n",
       "      <th>number_of_reviews_l30d</th>\n",
       "      <th>first_review</th>\n",
       "      <th>last_review</th>\n",
       "      <th>review_scores_rating</th>\n",
       "      <th>review_scores_accuracy</th>\n",
       "      <th>review_scores_cleanliness</th>\n",
       "      <th>review_scores_checkin</th>\n",
       "      <th>review_scores_communication</th>\n",
       "      <th>review_scores_location</th>\n",
       "      <th>review_scores_value</th>\n",
       "      <th>license</th>\n",
       "      <th>instant_bookable</th>\n",
       "      <th>calculated_host_listings_count</th>\n",
       "      <th>calculated_host_listings_count_entire_homes</th>\n",
       "      <th>calculated_host_listings_count_private_rooms</th>\n",
       "      <th>calculated_host_listings_count_shared_rooms</th>\n",
       "      <th>reviews_per_month</th>\n",
       "    </tr>\n",
       "  </thead>\n",
       "  <tbody>\n",
       "    <tr>\n",
       "      <th>3976</th>\n",
       "      <td>3976</td>\n",
       "      <td>https://www.airbnb.com/rooms/51842355</td>\n",
       "      <td>20211205213126</td>\n",
       "      <td>2021-12-06</td>\n",
       "      <td>Welcome to my city oasis!</td>\n",
       "      <td>Welcome to my beautiful quiet central south si...</td>\n",
       "      <td>NaN</td>\n",
       "      <td>https://a0.muscache.com/pictures/fa9e405c-70ab...</td>\n",
       "      <td>16863369</td>\n",
       "      <td>https://www.airbnb.com/users/show/16863369</td>\n",
       "      <td>Anouk</td>\n",
       "      <td>2014-06-16</td>\n",
       "      <td>Amsterdam, North Holland, The Netherlands</td>\n",
       "      <td>NaN</td>\n",
       "      <td>NaN</td>\n",
       "      <td>NaN</td>\n",
       "      <td>0%</td>\n",
       "      <td>f</td>\n",
       "      <td>https://a0.muscache.com/im/pictures/user/c92b0...</td>\n",
       "      <td>https://a0.muscache.com/im/pictures/user/c92b0...</td>\n",
       "      <td>NaN</td>\n",
       "      <td>1</td>\n",
       "      <td>1</td>\n",
       "      <td>['email', 'phone', 'reviews', 'jumio']</td>\n",
       "      <td>t</td>\n",
       "      <td>t</td>\n",
       "      <td>NaN</td>\n",
       "      <td>Zuid</td>\n",
       "      <td>NaN</td>\n",
       "      <td>52.34681</td>\n",
       "      <td>4.8606</td>\n",
       "      <td>Entire rental unit</td>\n",
       "      <td>Entire home/apt</td>\n",
       "      <td>2</td>\n",
       "      <td>NaN</td>\n",
       "      <td>1 bath</td>\n",
       "      <td>1.0</td>\n",
       "      <td>1.0</td>\n",
       "      <td>[\"Extra pillows and blankets\", \"Hair dryer\", \"...</td>\n",
       "      <td>110.0</td>\n",
       "      <td>10</td>\n",
       "      <td>30</td>\n",
       "      <td>10.0</td>\n",
       "      <td>10.0</td>\n",
       "      <td>30.0</td>\n",
       "      <td>30.0</td>\n",
       "      <td>10.0</td>\n",
       "      <td>30.0</td>\n",
       "      <td>NaN</td>\n",
       "      <td>t</td>\n",
       "      <td>0</td>\n",
       "      <td>3</td>\n",
       "      <td>33</td>\n",
       "      <td>123</td>\n",
       "      <td>2021-12-06</td>\n",
       "      <td>0</td>\n",
       "      <td>0</td>\n",
       "      <td>0</td>\n",
       "      <td>NaN</td>\n",
       "      <td>NaN</td>\n",
       "      <td>NaN</td>\n",
       "      <td>NaN</td>\n",
       "      <td>NaN</td>\n",
       "      <td>NaN</td>\n",
       "      <td>NaN</td>\n",
       "      <td>NaN</td>\n",
       "      <td>NaN</td>\n",
       "      <td>0363 CC5D C979 88CB 65F4</td>\n",
       "      <td>f</td>\n",
       "      <td>1</td>\n",
       "      <td>1</td>\n",
       "      <td>0</td>\n",
       "      <td>0</td>\n",
       "      <td>NaN</td>\n",
       "    </tr>\n",
       "  </tbody>\n",
       "</table>\n",
       "</div>"
      ],
      "text/plain": [
       "        id                            listing_url       scrape_id  \\\n",
       "3976  3976  https://www.airbnb.com/rooms/51842355  20211205213126   \n",
       "\n",
       "     last_scraped                       name  \\\n",
       "3976   2021-12-06  Welcome to my city oasis!   \n",
       "\n",
       "                                            description neighborhood_overview  \\\n",
       "3976  Welcome to my beautiful quiet central south si...                   NaN   \n",
       "\n",
       "                                            picture_url   host_id  \\\n",
       "3976  https://a0.muscache.com/pictures/fa9e405c-70ab...  16863369   \n",
       "\n",
       "                                        host_url host_name  host_since  \\\n",
       "3976  https://www.airbnb.com/users/show/16863369     Anouk  2014-06-16   \n",
       "\n",
       "                                  host_location host_about host_response_time  \\\n",
       "3976  Amsterdam, North Holland, The Netherlands        NaN                NaN   \n",
       "\n",
       "     host_response_rate host_acceptance_rate host_is_superhost  \\\n",
       "3976                NaN                   0%                 f   \n",
       "\n",
       "                                     host_thumbnail_url  \\\n",
       "3976  https://a0.muscache.com/im/pictures/user/c92b0...   \n",
       "\n",
       "                                       host_picture_url host_neighbourhood  \\\n",
       "3976  https://a0.muscache.com/im/pictures/user/c92b0...                NaN   \n",
       "\n",
       "      host_listings_count  host_total_listings_count  \\\n",
       "3976                    1                          1   \n",
       "\n",
       "                          host_verifications host_has_profile_pic  \\\n",
       "3976  ['email', 'phone', 'reviews', 'jumio']                    t   \n",
       "\n",
       "     host_identity_verified neighbourhood neighbourhood_cleansed  \\\n",
       "3976                      t           NaN                   Zuid   \n",
       "\n",
       "      neighbourhood_group_cleansed  latitude  longitude       property_type  \\\n",
       "3976                           NaN  52.34681     4.8606  Entire rental unit   \n",
       "\n",
       "            room_type  accommodates  bathrooms bathrooms_text  bedrooms  beds  \\\n",
       "3976  Entire home/apt             2        NaN         1 bath       1.0   1.0   \n",
       "\n",
       "                                              amenities  price  \\\n",
       "3976  [\"Extra pillows and blankets\", \"Hair dryer\", \"...  110.0   \n",
       "\n",
       "      minimum_nights  maximum_nights  minimum_minimum_nights  \\\n",
       "3976              10              30                    10.0   \n",
       "\n",
       "      maximum_minimum_nights  minimum_maximum_nights  maximum_maximum_nights  \\\n",
       "3976                    10.0                    30.0                    30.0   \n",
       "\n",
       "      minimum_nights_avg_ntm  maximum_nights_avg_ntm  calendar_updated  \\\n",
       "3976                    10.0                    30.0               NaN   \n",
       "\n",
       "     has_availability  availability_30  availability_60  availability_90  \\\n",
       "3976                t                0                3               33   \n",
       "\n",
       "      availability_365 calendar_last_scraped  number_of_reviews  \\\n",
       "3976               123            2021-12-06                  0   \n",
       "\n",
       "      number_of_reviews_ltm  number_of_reviews_l30d first_review last_review  \\\n",
       "3976                      0                       0          NaN         NaN   \n",
       "\n",
       "      review_scores_rating  review_scores_accuracy  review_scores_cleanliness  \\\n",
       "3976                   NaN                     NaN                        NaN   \n",
       "\n",
       "      review_scores_checkin  review_scores_communication  \\\n",
       "3976                    NaN                          NaN   \n",
       "\n",
       "      review_scores_location  review_scores_value                   license  \\\n",
       "3976                     NaN                  NaN  0363 CC5D C979 88CB 65F4   \n",
       "\n",
       "     instant_bookable  calculated_host_listings_count  \\\n",
       "3976                f                               1   \n",
       "\n",
       "      calculated_host_listings_count_entire_homes  \\\n",
       "3976                                            1   \n",
       "\n",
       "      calculated_host_listings_count_private_rooms  \\\n",
       "3976                                             0   \n",
       "\n",
       "      calculated_host_listings_count_shared_rooms  reviews_per_month  \n",
       "3976                                            0                NaN  "
      ]
     },
     "execution_count": 287,
     "metadata": {},
     "output_type": "execute_result"
    }
   ],
   "source": [
    "train.sample()"
   ]
  },
  {
   "cell_type": "code",
   "execution_count": 288,
   "id": "4bf6170f",
   "metadata": {
    "scrolled": true
   },
   "outputs": [],
   "source": [
    "#train.iloc[train['id'][0]] "
   ]
  },
  {
   "cell_type": "markdown",
   "id": "26eb3442",
   "metadata": {},
   "source": [
    "NaN values"
   ]
  },
  {
   "cell_type": "code",
   "execution_count": 289,
   "id": "4621d587",
   "metadata": {},
   "outputs": [
    {
     "data": {
      "text/plain": [
       "neighbourhood_group_cleansed    4167\n",
       "calendar_updated                4167\n",
       "bathrooms                       4167\n",
       "host_neighbourhood              1786\n",
       "host_about                      1512\n",
       "host_response_time              1413\n",
       "host_response_rate              1413\n",
       "neighbourhood                   1163\n",
       "neighborhood_overview           1163\n",
       "host_acceptance_rate            1092\n",
       "review_scores_communication      385\n",
       "review_scores_location           385\n",
       "review_scores_value              385\n",
       "review_scores_checkin            385\n",
       "review_scores_accuracy           385\n",
       "review_scores_cleanliness        385\n",
       "first_review                     377\n",
       "last_review                      377\n",
       "reviews_per_month                377\n",
       "review_scores_rating             377\n",
       "bedrooms                         253\n",
       "beds                             174\n",
       "license                           32\n",
       "host_location                     12\n",
       "description                        8\n",
       "bathrooms_text                     8\n",
       "maximum_nights_avg_ntm             1\n",
       "minimum_nights_avg_ntm             1\n",
       "maximum_maximum_nights             1\n",
       "maximum_minimum_nights             1\n",
       "minimum_minimum_nights             1\n",
       "minimum_maximum_nights             1\n",
       "dtype: int64"
      ]
     },
     "execution_count": 289,
     "metadata": {},
     "output_type": "execute_result"
    }
   ],
   "source": [
    "nan_rank = train.isna().sum() #Most to least Nans columns\n",
    "nan_rank[nan_rank.values > 0].sort_values(ascending=False)"
   ]
  },
  {
   "cell_type": "code",
   "execution_count": 290,
   "id": "fbee100b",
   "metadata": {},
   "outputs": [
    {
     "data": {
      "image/png": "[encoded data removed]",
      "text/plain": [
       "<Figure size 432x288 with 1 Axes>"
      ]
     },
     "metadata": {
      "needs_background": "light"
     },
     "output_type": "display_data"
    }
   ],
   "source": [
    "avg_price_superhost = train.groupby('host_is_superhost').mean()[\"price\"]\n",
    "avg_price_superhost.plot(kind=\"bar\")\n",
    "plt.title(\"Avg. Price by host is superhost \")\n",
    "plt.show()"
   ]
  },
  {
   "cell_type": "markdown",
   "id": "75c99f5f",
   "metadata": {},
   "source": [
    "Al contrario de lo que podríamos esperar, el precio varía en funcion de si el host es Super o No pero\n",
    "aunque de manera inversa a lo esperable"
   ]
  },
  {
   "cell_type": "code",
   "execution_count": 291,
   "id": "769f5a69",
   "metadata": {},
   "outputs": [
    {
     "data": {
      "image/png": "[encoded data removed]",
      "text/plain": [
       "<Figure size 432x288 with 1 Axes>"
      ]
     },
     "metadata": {
      "needs_background": "light"
     },
     "output_type": "display_data"
    }
   ],
   "source": [
    "#plt.xticks(rotation=90)\n",
    "\n",
    "avg_price_host_veri = train.groupby('host_identity_verified').mean()[\"price\"]\n",
    "avg_price_host_veri.plot(kind=\"bar\")\n",
    "plt.title(\"Avg. Price by host is verified \")\n",
    "plt.show()\n"
   ]
  },
  {
   "cell_type": "markdown",
   "id": "e37bb398",
   "metadata": {},
   "source": [
    "### ver como hacer casteo del host acceptance rate porque no me sale ni a palos"
   ]
  },
  {
   "cell_type": "code",
   "execution_count": 292,
   "id": "28d5467e",
   "metadata": {},
   "outputs": [],
   "source": [
    "#train.host_acceptance_rate.astype(str)\n",
    "#train.host_acceptance_rate.dtypes\n",
    "\n",
    "#train.host_acceptance_rate = train.host_acceptance_rate.astype(str)#\n",
    "#\n",
    "#acc = pd.cut(train['host_acceptance_rate'],\n",
    "#                bins = [0, 20, 40, 60, 80, 100],\n",
    "#                labels=[\"0-20\", \"20-40\", \"40-60\", \"60-80\", \"80-100\"])\n",
    "# \n",
    "#acc.value_counts().sort_index().plot(kind=\"bar\", rot = 0)\n",
    "\n",
    "#avg_price_acc = train.groupby('host_acceptance_rate').mean()[\"price\"]\n",
    "#avg_price_host_veri.plot(kind=\"bar\")\n",
    "#plt.title(\"Avg. Price by host is verified \")\n",
    "#plt.show()"
   ]
  },
  {
   "cell_type": "code",
   "execution_count": 293,
   "id": "1914bd86",
   "metadata": {},
   "outputs": [
    {
     "data": {
      "text/plain": [
       "str"
      ]
     },
     "execution_count": 293,
     "metadata": {},
     "output_type": "execute_result"
    }
   ],
   "source": [
    "type(train.host_acceptance_rate[0])"
   ]
  },
  {
   "cell_type": "code",
   "execution_count": 294,
   "id": "41f1a71f",
   "metadata": {},
   "outputs": [],
   "source": [
    "#CASTEO DEL HOST SINCE-->FUNCION\n",
    "#train['host_since'] = train['host_since'].astype(str) #FUNCION\n",
    "#train['host_since'] = pd.to_datetime(train['host_since'], format='%Y-%m-%d')\n",
    "\n",
    "#Creo columna year_host_since\n",
    "#train['host_since_year'] = pd.DatetimeIndex(train['host_since']).year\n",
    "#train['host_since_year'].head()\n",
    "#train = train.drop('host_since', inplace=True) # OJO QUE ESTO HAY QUE HACERLO DESPUES DE LAS TRANSFORMACIONES\n",
    "#train.host_since_year.sample\n",
    "#train['host_since'] = train['host_since'].astype(str)\n",
    "#train['host_since'].dtypes\n",
    "#train['host_since'] = pd.to_datetime(train['host_since'], format='%Y%m%d')\n",
    "#train.host_since.dtype"
   ]
  },
  {
   "cell_type": "code",
   "execution_count": 295,
   "id": "9c5e69c4",
   "metadata": {},
   "outputs": [],
   "source": [
    "selection = ['host_is_superhost',\n",
    "    'host_since']"
   ]
  },
  {
   "cell_type": "code",
   "execution_count": 296,
   "id": "1ed196fb",
   "metadata": {},
   "outputs": [],
   "source": [
    "## host_since --> Me lo puedo cepillar o no??Es un datetime, ver como tranajarlo"
   ]
  },
  {
   "cell_type": "markdown",
   "id": "952bad6a",
   "metadata": {},
   "source": [
    "## CLUSTERIZANDO LATITUDE Y LONGITUD"
   ]
  },
  {
   "cell_type": "markdown",
   "id": "4da665f0",
   "metadata": {},
   "source": [
    "### CON HDBSCAN"
   ]
  },
  {
   "cell_type": "code",
   "execution_count": 297,
   "id": "a80d6341",
   "metadata": {},
   "outputs": [],
   "source": [
    "#0.01 / 6378"
   ]
  },
  {
   "cell_type": "markdown",
   "id": "19dca763",
   "metadata": {},
   "source": [
    "### HABLAR CON YONA PARA VER TEMA DE MANTENER LOS GRUPOS CLUSTERIZADOS ANTERIORMENTE:"
   ]
  },
  {
   "cell_type": "code",
   "execution_count": 298,
   "id": "241079fe",
   "metadata": {},
   "outputs": [],
   "source": [
    "#latitude y longitud los vamos a clusterizar con DBSCAN: --> METIDO EN UNA FUNCION\n",
    "#!pip install hdbscan\n",
    "\n",
    "hdbscan=HDBSCAN(min_cluster_size=3,min_samples=2,cluster_selection_epsilon=0.01,\n",
    "                allow_single_cluster=False,prediction_data=True,leaf_size=30)\n",
    "      \n",
    "#help(hdbscan)\n",
    "##PARAMS\n",
    "#algorithm='best', alpha=1.0, approx_min_span_tree=True,\n",
    "#    gen_min_span_tree=False, leaf_size=40, memory=Memory(cachedir=None),\n",
    "#    metric='euclidean', min_cluster_size=5, min_samples=None, p=None"
   ]
  },
  {
   "cell_type": "markdown",
   "id": "f438b5be",
   "metadata": {},
   "source": [
    "Cuales son la etiquetas de HDBSCAN??"
   ]
  },
  {
   "cell_type": "code",
   "execution_count": 299,
   "id": "e60e2a3e",
   "metadata": {},
   "outputs": [],
   "source": [
    "#train.head()"
   ]
  },
  {
   "cell_type": "code",
   "execution_count": 300,
   "id": "ff178e7f",
   "metadata": {},
   "outputs": [],
   "source": [
    "#test=pd.read_csv('data/test.csv.zip') #Cargamos el test para ver como clusteriza los nuevos puntos"
   ]
  },
  {
   "cell_type": "code",
   "execution_count": 301,
   "id": "d97e412c",
   "metadata": {},
   "outputs": [],
   "source": [
    "#test_points = np.column_stack((test['longitude'],test['latitude']))"
   ]
  },
  {
   "cell_type": "code",
   "execution_count": 302,
   "id": "613b6f46",
   "metadata": {},
   "outputs": [],
   "source": [
    "#test_labels, strengths = hdbscan.prediction.approximate_predict(clasi, test_points)\n",
    "#test_labels = clasi.approximate_predict(clasi, test_points)"
   ]
  },
  {
   "cell_type": "code",
   "execution_count": 303,
   "id": "2593844f",
   "metadata": {},
   "outputs": [],
   "source": [
    "#help(clasi)"
   ]
  },
  {
   "cell_type": "code",
   "execution_count": null,
   "id": "80f5734f",
   "metadata": {},
   "outputs": [],
   "source": []
  },
  {
   "cell_type": "markdown",
   "id": "32a6c105",
   "metadata": {},
   "source": [
    "### FUNCION LIMPIEZA:"
   ]
  },
  {
   "cell_type": "code",
   "execution_count": 304,
   "id": "b00d78c0",
   "metadata": {},
   "outputs": [],
   "source": [
    "import funciones as f"
   ]
  },
  {
   "cell_type": "code",
   "execution_count": 305,
   "id": "87de8df2",
   "metadata": {},
   "outputs": [
    {
     "data": {
      "text/plain": [
       "174"
      ]
     },
     "execution_count": 305,
     "metadata": {},
     "output_type": "execute_result"
    }
   ],
   "source": [
    "train.beds.isna().sum()"
   ]
  },
  {
   "cell_type": "markdown",
   "id": "1292883e",
   "metadata": {},
   "source": [
    "MIRAR BIEN LO DE CATS / QUE SOLO COGE EL PRIMER\n",
    "MIRAR TB LO DE LOS AMENITIES QUE ME LOS HE CEPILLADO\n"
   ]
  },
  {
   "cell_type": "code",
   "execution_count": 306,
   "id": "c3539950",
   "metadata": {},
   "outputs": [],
   "source": [
    "#avg_price_host_since = train.groupby('host_since_year').mean()[\"price\"]\n",
    "#avg_price_host_since.plot(kind=\"bar\")\n",
    "#plt.title(\"Avg. Price by host since year\")\n",
    "#plt.show()"
   ]
  },
  {
   "cell_type": "markdown",
   "id": "9fb8c229",
   "metadata": {},
   "source": [
    "# H2O"
   ]
  },
  {
   "cell_type": "code",
   "execution_count": 307,
   "id": "c2292c79",
   "metadata": {},
   "outputs": [
    {
     "ename": "KeyError",
     "evalue": "\"['calculated_host_listings_count_entire_homes'] not found in axis\"",
     "output_type": "error",
     "traceback": [
      "\u001b[0;31m---------------------------------------------------------------------------\u001b[0m",
      "\u001b[0;31mKeyError\u001b[0m                                  Traceback (most recent call last)",
      "\u001b[0;32m/tmp/ipykernel_12379/3331923528.py\u001b[0m in \u001b[0;36m<module>\u001b[0;34m\u001b[0m\n\u001b[0;32m----> 1\u001b[0;31m \u001b[0mtrain_ready\u001b[0m \u001b[0;34m=\u001b[0m \u001b[0mf\u001b[0m\u001b[0;34m.\u001b[0m\u001b[0mclean\u001b[0m\u001b[0;34m(\u001b[0m\u001b[0mtrain\u001b[0m\u001b[0;34m)\u001b[0m\u001b[0;34m\u001b[0m\u001b[0;34m\u001b[0m\u001b[0m\n\u001b[0m\u001b[1;32m      2\u001b[0m \u001b[0mtrain_ready\u001b[0m\u001b[0;34m.\u001b[0m\u001b[0mshape\u001b[0m\u001b[0;34m\u001b[0m\u001b[0;34m\u001b[0m\u001b[0m\n",
      "\u001b[0;32m~/Escritorio/Data/ML_kaggle_competition/funciones.py\u001b[0m in \u001b[0;36mclean\u001b[0;34m(df)\u001b[0m\n\u001b[1;32m     79\u001b[0m     \u001b[0;32mfor\u001b[0m \u001b[0mi\u001b[0m \u001b[0;32min\u001b[0m \u001b[0mdrop\u001b[0m\u001b[0;34m:\u001b[0m\u001b[0;34m\u001b[0m\u001b[0;34m\u001b[0m\u001b[0m\n\u001b[1;32m     80\u001b[0m         \u001b[0mdf\u001b[0m \u001b[0;34m=\u001b[0m \u001b[0mdf\u001b[0m\u001b[0;34m.\u001b[0m\u001b[0mdrop\u001b[0m\u001b[0;34m(\u001b[0m\u001b[0mi\u001b[0m\u001b[0;34m,\u001b[0m \u001b[0maxis\u001b[0m\u001b[0;34m=\u001b[0m\u001b[0;36m1\u001b[0m\u001b[0;34m)\u001b[0m\u001b[0;34m\u001b[0m\u001b[0;34m\u001b[0m\u001b[0m\n\u001b[0;32m---> 81\u001b[0;31m \u001b[0;34m\u001b[0m\u001b[0m\n\u001b[0m\u001b[1;32m     82\u001b[0m     \u001b[0mdf\u001b[0m \u001b[0;34m=\u001b[0m \u001b[0mdf\u001b[0m\u001b[0;34m.\u001b[0m\u001b[0mfillna\u001b[0m\u001b[0;34m(\u001b[0m\u001b[0;36m0\u001b[0m\u001b[0;34m)\u001b[0m\u001b[0;34m\u001b[0m\u001b[0;34m\u001b[0m\u001b[0m\n\u001b[1;32m     83\u001b[0m \u001b[0;34m\u001b[0m\u001b[0m\n",
      "\u001b[0;32m~/miniconda3/envs/ironhack/lib/python3.9/site-packages/pandas/util/_decorators.py\u001b[0m in \u001b[0;36mwrapper\u001b[0;34m(*args, **kwargs)\u001b[0m\n\u001b[1;32m    309\u001b[0m                     \u001b[0mstacklevel\u001b[0m\u001b[0;34m=\u001b[0m\u001b[0mstacklevel\u001b[0m\u001b[0;34m,\u001b[0m\u001b[0;34m\u001b[0m\u001b[0;34m\u001b[0m\u001b[0m\n\u001b[1;32m    310\u001b[0m                 )\n\u001b[0;32m--> 311\u001b[0;31m             \u001b[0;32mreturn\u001b[0m \u001b[0mfunc\u001b[0m\u001b[0;34m(\u001b[0m\u001b[0;34m*\u001b[0m\u001b[0margs\u001b[0m\u001b[0;34m,\u001b[0m \u001b[0;34m**\u001b[0m\u001b[0mkwargs\u001b[0m\u001b[0;34m)\u001b[0m\u001b[0;34m\u001b[0m\u001b[0;34m\u001b[0m\u001b[0m\n\u001b[0m\u001b[1;32m    312\u001b[0m \u001b[0;34m\u001b[0m\u001b[0m\n\u001b[1;32m    313\u001b[0m         \u001b[0;32mreturn\u001b[0m \u001b[0mwrapper\u001b[0m\u001b[0;34m\u001b[0m\u001b[0;34m\u001b[0m\u001b[0m\n",
      "\u001b[0;32m~/miniconda3/envs/ironhack/lib/python3.9/site-packages/pandas/core/frame.py\u001b[0m in \u001b[0;36mdrop\u001b[0;34m(self, labels, axis, index, columns, level, inplace, errors)\u001b[0m\n\u001b[1;32m   4954\u001b[0m                 \u001b[0mweight\u001b[0m  \u001b[0;36m1.0\u001b[0m     \u001b[0;36m0.8\u001b[0m\u001b[0;34m\u001b[0m\u001b[0;34m\u001b[0m\u001b[0m\n\u001b[1;32m   4955\u001b[0m         \"\"\"\n\u001b[0;32m-> 4956\u001b[0;31m         return super().drop(\n\u001b[0m\u001b[1;32m   4957\u001b[0m             \u001b[0mlabels\u001b[0m\u001b[0;34m=\u001b[0m\u001b[0mlabels\u001b[0m\u001b[0;34m,\u001b[0m\u001b[0;34m\u001b[0m\u001b[0;34m\u001b[0m\u001b[0m\n\u001b[1;32m   4958\u001b[0m             \u001b[0maxis\u001b[0m\u001b[0;34m=\u001b[0m\u001b[0maxis\u001b[0m\u001b[0;34m,\u001b[0m\u001b[0;34m\u001b[0m\u001b[0;34m\u001b[0m\u001b[0m\n",
      "\u001b[0;32m~/miniconda3/envs/ironhack/lib/python3.9/site-packages/pandas/core/generic.py\u001b[0m in \u001b[0;36mdrop\u001b[0;34m(self, labels, axis, index, columns, level, inplace, errors)\u001b[0m\n\u001b[1;32m   4277\u001b[0m         \u001b[0;32mfor\u001b[0m \u001b[0maxis\u001b[0m\u001b[0;34m,\u001b[0m \u001b[0mlabels\u001b[0m \u001b[0;32min\u001b[0m \u001b[0maxes\u001b[0m\u001b[0;34m.\u001b[0m\u001b[0mitems\u001b[0m\u001b[0;34m(\u001b[0m\u001b[0;34m)\u001b[0m\u001b[0;34m:\u001b[0m\u001b[0;34m\u001b[0m\u001b[0;34m\u001b[0m\u001b[0m\n\u001b[1;32m   4278\u001b[0m             \u001b[0;32mif\u001b[0m \u001b[0mlabels\u001b[0m \u001b[0;32mis\u001b[0m \u001b[0;32mnot\u001b[0m \u001b[0;32mNone\u001b[0m\u001b[0;34m:\u001b[0m\u001b[0;34m\u001b[0m\u001b[0;34m\u001b[0m\u001b[0m\n\u001b[0;32m-> 4279\u001b[0;31m                 \u001b[0mobj\u001b[0m \u001b[0;34m=\u001b[0m \u001b[0mobj\u001b[0m\u001b[0;34m.\u001b[0m\u001b[0m_drop_axis\u001b[0m\u001b[0;34m(\u001b[0m\u001b[0mlabels\u001b[0m\u001b[0;34m,\u001b[0m \u001b[0maxis\u001b[0m\u001b[0;34m,\u001b[0m \u001b[0mlevel\u001b[0m\u001b[0;34m=\u001b[0m\u001b[0mlevel\u001b[0m\u001b[0;34m,\u001b[0m \u001b[0merrors\u001b[0m\u001b[0;34m=\u001b[0m\u001b[0merrors\u001b[0m\u001b[0;34m)\u001b[0m\u001b[0;34m\u001b[0m\u001b[0;34m\u001b[0m\u001b[0m\n\u001b[0m\u001b[1;32m   4280\u001b[0m \u001b[0;34m\u001b[0m\u001b[0m\n\u001b[1;32m   4281\u001b[0m         \u001b[0;32mif\u001b[0m \u001b[0minplace\u001b[0m\u001b[0;34m:\u001b[0m\u001b[0;34m\u001b[0m\u001b[0;34m\u001b[0m\u001b[0m\n",
      "\u001b[0;32m~/miniconda3/envs/ironhack/lib/python3.9/site-packages/pandas/core/generic.py\u001b[0m in \u001b[0;36m_drop_axis\u001b[0;34m(self, labels, axis, level, errors, consolidate, only_slice)\u001b[0m\n\u001b[1;32m   4321\u001b[0m                 \u001b[0mnew_axis\u001b[0m \u001b[0;34m=\u001b[0m \u001b[0maxis\u001b[0m\u001b[0;34m.\u001b[0m\u001b[0mdrop\u001b[0m\u001b[0;34m(\u001b[0m\u001b[0mlabels\u001b[0m\u001b[0;34m,\u001b[0m \u001b[0mlevel\u001b[0m\u001b[0;34m=\u001b[0m\u001b[0mlevel\u001b[0m\u001b[0;34m,\u001b[0m \u001b[0merrors\u001b[0m\u001b[0;34m=\u001b[0m\u001b[0merrors\u001b[0m\u001b[0;34m)\u001b[0m\u001b[0;34m\u001b[0m\u001b[0;34m\u001b[0m\u001b[0m\n\u001b[1;32m   4322\u001b[0m             \u001b[0;32melse\u001b[0m\u001b[0;34m:\u001b[0m\u001b[0;34m\u001b[0m\u001b[0;34m\u001b[0m\u001b[0m\n\u001b[0;32m-> 4323\u001b[0;31m                 \u001b[0mnew_axis\u001b[0m \u001b[0;34m=\u001b[0m \u001b[0maxis\u001b[0m\u001b[0;34m.\u001b[0m\u001b[0mdrop\u001b[0m\u001b[0;34m(\u001b[0m\u001b[0mlabels\u001b[0m\u001b[0;34m,\u001b[0m \u001b[0merrors\u001b[0m\u001b[0;34m=\u001b[0m\u001b[0merrors\u001b[0m\u001b[0;34m)\u001b[0m\u001b[0;34m\u001b[0m\u001b[0;34m\u001b[0m\u001b[0m\n\u001b[0m\u001b[1;32m   4324\u001b[0m             \u001b[0mindexer\u001b[0m \u001b[0;34m=\u001b[0m \u001b[0maxis\u001b[0m\u001b[0;34m.\u001b[0m\u001b[0mget_indexer\u001b[0m\u001b[0;34m(\u001b[0m\u001b[0mnew_axis\u001b[0m\u001b[0;34m)\u001b[0m\u001b[0;34m\u001b[0m\u001b[0;34m\u001b[0m\u001b[0m\n\u001b[1;32m   4325\u001b[0m \u001b[0;34m\u001b[0m\u001b[0m\n",
      "\u001b[0;32m~/miniconda3/envs/ironhack/lib/python3.9/site-packages/pandas/core/indexes/base.py\u001b[0m in \u001b[0;36mdrop\u001b[0;34m(self, labels, errors)\u001b[0m\n\u001b[1;32m   6642\u001b[0m         \u001b[0;32mif\u001b[0m \u001b[0mmask\u001b[0m\u001b[0;34m.\u001b[0m\u001b[0many\u001b[0m\u001b[0;34m(\u001b[0m\u001b[0;34m)\u001b[0m\u001b[0;34m:\u001b[0m\u001b[0;34m\u001b[0m\u001b[0;34m\u001b[0m\u001b[0m\n\u001b[1;32m   6643\u001b[0m             \u001b[0;32mif\u001b[0m \u001b[0merrors\u001b[0m \u001b[0;34m!=\u001b[0m \u001b[0;34m\"ignore\"\u001b[0m\u001b[0;34m:\u001b[0m\u001b[0;34m\u001b[0m\u001b[0;34m\u001b[0m\u001b[0m\n\u001b[0;32m-> 6644\u001b[0;31m                 \u001b[0;32mraise\u001b[0m \u001b[0mKeyError\u001b[0m\u001b[0;34m(\u001b[0m\u001b[0;34mf\"{list(labels[mask])} not found in axis\"\u001b[0m\u001b[0;34m)\u001b[0m\u001b[0;34m\u001b[0m\u001b[0;34m\u001b[0m\u001b[0m\n\u001b[0m\u001b[1;32m   6645\u001b[0m             \u001b[0mindexer\u001b[0m \u001b[0;34m=\u001b[0m \u001b[0mindexer\u001b[0m\u001b[0;34m[\u001b[0m\u001b[0;34m~\u001b[0m\u001b[0mmask\u001b[0m\u001b[0;34m]\u001b[0m\u001b[0;34m\u001b[0m\u001b[0;34m\u001b[0m\u001b[0m\n\u001b[1;32m   6646\u001b[0m         \u001b[0;32mreturn\u001b[0m \u001b[0mself\u001b[0m\u001b[0;34m.\u001b[0m\u001b[0mdelete\u001b[0m\u001b[0;34m(\u001b[0m\u001b[0mindexer\u001b[0m\u001b[0;34m)\u001b[0m\u001b[0;34m\u001b[0m\u001b[0;34m\u001b[0m\u001b[0m\n",
      "\u001b[0;31mKeyError\u001b[0m: \"['calculated_host_listings_count_entire_homes'] not found in axis\""
     ]
    }
   ],
   "source": [
    "train_ready = f.clean(train)\n",
    "train_ready.shape"
   ]
  },
  {
   "cell_type": "code",
   "execution_count": null,
   "id": "5cd754be",
   "metadata": {},
   "outputs": [],
   "source": [
    "import h2o\n",
    "from h2o.automl import H2OAutoML"
   ]
  },
  {
   "cell_type": "code",
   "execution_count": null,
   "id": "5844eea1",
   "metadata": {},
   "outputs": [],
   "source": [
    "h2o.init(\n",
    "    nthreads=-1,     # number of threads when launching a new H2O server\n",
    "    max_mem_size=8  # in gigabytes\n",
    ")"
   ]
  },
  {
   "cell_type": "code",
   "execution_count": null,
   "id": "0dbd564d",
   "metadata": {},
   "outputs": [],
   "source": [
    "train_H2o = h2o.H2OFrame(train_ready)"
   ]
  },
  {
   "cell_type": "code",
   "execution_count": null,
   "id": "7a604c58",
   "metadata": {},
   "outputs": [],
   "source": [
    "y = \"price\" #Target a predecir\n",
    "splits = train_H2o.split_frame(ratios = [0.8], seed = 42) #Hacemos tts a pelo\n",
    "train = splits[0]\n",
    "test = splits[1]"
   ]
  },
  {
   "cell_type": "code",
   "execution_count": null,
   "id": "bb1a739f",
   "metadata": {},
   "outputs": [],
   "source": [
    "aml = H2OAutoML(max_models=30, seed=1)\n",
    "aml.train(y = y, training_frame = train, leaderboard_frame = test)"
   ]
  },
  {
   "cell_type": "code",
   "execution_count": null,
   "id": "9b513e7f",
   "metadata": {},
   "outputs": [],
   "source": [
    "lb = aml.leaderboard\n",
    "lb"
   ]
  },
  {
   "cell_type": "code",
   "execution_count": null,
   "id": "eb8e18ce",
   "metadata": {},
   "outputs": [],
   "source": [
    "perf = aml.leader.model_performance(test)\n",
    "perf"
   ]
  },
  {
   "cell_type": "code",
   "execution_count": null,
   "id": "e646501b",
   "metadata": {},
   "outputs": [],
   "source": [
    "#exm = aml.leader.explain(test)"
   ]
  },
  {
   "cell_type": "code",
   "execution_count": null,
   "id": "dacad26c",
   "metadata": {},
   "outputs": [],
   "source": [
    "PARON"
   ]
  },
  {
   "cell_type": "code",
   "execution_count": null,
   "id": "cfb464e6",
   "metadata": {},
   "outputs": [],
   "source": [
    "test = pd.read_csv('data/test.csv.zip')"
   ]
  },
  {
   "cell_type": "code",
   "execution_count": null,
   "id": "91fe321a",
   "metadata": {},
   "outputs": [],
   "source": [
    "f.clean(test)"
   ]
  },
  {
   "cell_type": "code",
   "execution_count": null,
   "id": "6b5466c9",
   "metadata": {},
   "outputs": [],
   "source": [
    "testh2o = h2o.H2OFrame(test)"
   ]
  },
  {
   "cell_type": "code",
   "execution_count": null,
   "id": "b0e12483",
   "metadata": {},
   "outputs": [],
   "source": [
    "prediccion_test_completo = aml.leader.predict(testh2o)"
   ]
  },
  {
   "cell_type": "code",
   "execution_count": null,
   "id": "2f5b752d",
   "metadata": {},
   "outputs": [],
   "source": [
    "QUIETO"
   ]
  },
  {
   "cell_type": "code",
   "execution_count": null,
   "id": "fc92b65e",
   "metadata": {},
   "outputs": [],
   "source": [
    "nombre = 'predicciones4'"
   ]
  },
  {
   "cell_type": "code",
   "execution_count": null,
   "id": "cdf9c406",
   "metadata": {},
   "outputs": [],
   "source": [
    "predict = h2o.as_list(prediccion_test_completo)\n",
    "predict.to_csv((\"data/{}.csv\".format(nombre)))\n",
    "sample = pd.read_csv('data/sample.csv')\n",
    "sample.price = predict.predict  #Cambiamos columna price por la Series de Pandas que tenemos\n",
    "sample.to_csv('data/modelo4_predict.csv', index = False)"
   ]
  },
  {
   "cell_type": "code",
   "execution_count": null,
   "id": "058715ae",
   "metadata": {},
   "outputs": [],
   "source": [
    "#Viendo los insgiths de las columnas que me da modelo 4 me puedo cepillar la mitad"
   ]
  }
 ],
 "metadata": {
  "kernelspec": {
   "display_name": "Python 3 (ipykernel)",
   "language": "python",
   "name": "python3"
  },
  "language_info": {
   "codemirror_mode": {
    "name": "ipython",
    "version": 3
   },
   "file_extension": ".py",
   "mimetype": "text/x-python",
   "name": "python",
   "nbconvert_exporter": "python",
   "pygments_lexer": "ipython3",
   "version": "3.9.7"
  }
 },
 "nbformat": 4,
 "nbformat_minor": 5
}
