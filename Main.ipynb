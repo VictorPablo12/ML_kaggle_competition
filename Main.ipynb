{
 "cells": [
  {
   "cell_type": "code",
   "execution_count": 1,
   "id": "33589826",
   "metadata": {},
   "outputs": [],
   "source": [
    "import pandas as pd\n",
    "import numpy as np"
   ]
  },
  {
   "cell_type": "markdown",
   "id": "858fc960",
   "metadata": {},
   "source": [
    "# Data Cleaning"
   ]
  },
  {
   "cell_type": "markdown",
   "id": "29f1ffa1",
   "metadata": {},
   "source": [
    "- Importing data set\n",
    "- In this case weĺl be working with train.csv which is the data frame we'll be using to train our models"
   ]
  },
  {
   "cell_type": "code",
   "execution_count": 15,
   "id": "12670dcd",
   "metadata": {},
   "outputs": [
    {
     "name": "stderr",
     "output_type": "stream",
     "text": [
      "/tmp/ipykernel_58220/964544275.py:1: DtypeWarning: Columns (0,2,22,36,41,45,46,55,61,64,66) have mixed types. Specify dtype option on import or set low_memory=False.\n",
      "  airBNB_train = pd.read_csv('data/train.csv.zip')\n"
     ]
    }
   ],
   "source": [
    "airBNB_train = pd.read_csv('data/train.csv.zip') "
   ]
  },
  {
   "cell_type": "markdown",
   "id": "6241290c",
   "metadata": {},
   "source": [
    "- Making a copy just in case:"
   ]
  },
  {
   "cell_type": "code",
   "execution_count": 16,
   "id": "f95f407d",
   "metadata": {},
   "outputs": [],
   "source": [
    "raw = airBNB.copy()"
   ]
  },
  {
   "cell_type": "code",
   "execution_count": 17,
   "id": "6c75c6ba",
   "metadata": {
    "scrolled": true
   },
   "outputs": [
    {
     "data": {
      "text/html": [
       "<div>\n",
       "<style scoped>\n",
       "    .dataframe tbody tr th:only-of-type {\n",
       "        vertical-align: middle;\n",
       "    }\n",
       "\n",
       "    .dataframe tbody tr th {\n",
       "        vertical-align: top;\n",
       "    }\n",
       "\n",
       "    .dataframe thead th {\n",
       "        text-align: right;\n",
       "    }\n",
       "</style>\n",
       "<table border=\"1\" class=\"dataframe\">\n",
       "  <thead>\n",
       "    <tr style=\"text-align: right;\">\n",
       "      <th></th>\n",
       "      <th>id</th>\n",
       "      <th>listing_url</th>\n",
       "      <th>scrape_id</th>\n",
       "      <th>last_scraped</th>\n",
       "      <th>name</th>\n",
       "      <th>description</th>\n",
       "      <th>neighborhood_overview</th>\n",
       "      <th>picture_url</th>\n",
       "      <th>host_id</th>\n",
       "      <th>host_url</th>\n",
       "      <th>...</th>\n",
       "      <th>calculated_host_listings_count_shared_rooms</th>\n",
       "      <th>reviews_per_month</th>\n",
       "      <th>last_searched</th>\n",
       "      <th>requires_license</th>\n",
       "      <th>region_id</th>\n",
       "      <th>region_name</th>\n",
       "      <th>region_parent_id</th>\n",
       "      <th>region_parent_name</th>\n",
       "      <th>region_parent_parent_id</th>\n",
       "      <th>region_parent_parent_name</th>\n",
       "    </tr>\n",
       "  </thead>\n",
       "  <tbody>\n",
       "    <tr>\n",
       "      <th>3020</th>\n",
       "      <td>3020</td>\n",
       "      <td>https://www.airbnb.com/rooms/32421511</td>\n",
       "      <td>20211211051501</td>\n",
       "      <td>2021-12-11</td>\n",
       "      <td>Élégante villa dans un écrin de verdure, 2 pas Bx</td>\n",
       "      <td>Dans un écrin de verdure, à 9 kms de la gare d...</td>\n",
       "      <td>Quartier résidentiel très tranquille&lt;br /&gt;&lt;br ...</td>\n",
       "      <td>https://a0.muscache.com/pictures/4f8e3e73-6bc4...</td>\n",
       "      <td>129364196.0</td>\n",
       "      <td>https://www.airbnb.com/users/show/129364196</td>\n",
       "      <td>...</td>\n",
       "      <td>0.0</td>\n",
       "      <td>0.39</td>\n",
       "      <td>NaN</td>\n",
       "      <td>NaN</td>\n",
       "      <td>NaN</td>\n",
       "      <td>NaN</td>\n",
       "      <td>NaN</td>\n",
       "      <td>NaN</td>\n",
       "      <td>NaN</td>\n",
       "      <td>NaN</td>\n",
       "    </tr>\n",
       "  </tbody>\n",
       "</table>\n",
       "<p>1 rows × 82 columns</p>\n",
       "</div>"
      ],
      "text/plain": [
       "        id                            listing_url       scrape_id  \\\n",
       "3020  3020  https://www.airbnb.com/rooms/32421511  20211211051501   \n",
       "\n",
       "     last_scraped                                               name  \\\n",
       "3020   2021-12-11  Élégante villa dans un écrin de verdure, 2 pas Bx   \n",
       "\n",
       "                                            description  \\\n",
       "3020  Dans un écrin de verdure, à 9 kms de la gare d...   \n",
       "\n",
       "                                  neighborhood_overview  \\\n",
       "3020  Quartier résidentiel très tranquille<br /><br ...   \n",
       "\n",
       "                                            picture_url      host_id  \\\n",
       "3020  https://a0.muscache.com/pictures/4f8e3e73-6bc4...  129364196.0   \n",
       "\n",
       "                                         host_url  ...  \\\n",
       "3020  https://www.airbnb.com/users/show/129364196  ...   \n",
       "\n",
       "     calculated_host_listings_count_shared_rooms reviews_per_month  \\\n",
       "3020                                         0.0              0.39   \n",
       "\n",
       "     last_searched requires_license region_id region_name region_parent_id  \\\n",
       "3020           NaN              NaN       NaN         NaN              NaN   \n",
       "\n",
       "     region_parent_name region_parent_parent_id region_parent_parent_name  \n",
       "3020                NaN                     NaN                       NaN  \n",
       "\n",
       "[1 rows x 82 columns]"
      ]
     },
     "execution_count": 17,
     "metadata": {},
     "output_type": "execute_result"
    }
   ],
   "source": [
    "raw.sample()"
   ]
  },
  {
   "cell_type": "markdown",
   "id": "d1202f9d",
   "metadata": {},
   "source": [
    "### Vamos a hacerlo a lo bestia por tener una referencia de performance:\n",
    " - Con regresor lineal\n",
    " - Con Pycaret\n",
    " - Con H20"
   ]
  },
  {
   "cell_type": "markdown",
   "id": "5fa31f1f",
   "metadata": {},
   "source": [
    "## Splitting our train DF:"
   ]
  },
  {
   "cell_type": "code",
   "execution_count": 18,
   "id": "ecbd504a",
   "metadata": {},
   "outputs": [],
   "source": [
    "y = raw['price']\n",
    "X=raw.drop('price', axis=1)"
   ]
  },
  {
   "cell_type": "code",
   "execution_count": 19,
   "id": "9d108d1c",
   "metadata": {},
   "outputs": [],
   "source": [
    "from sklearn.model_selection import train_test_split as tts"
   ]
  },
  {
   "cell_type": "code",
   "execution_count": 20,
   "id": "03ad63f1",
   "metadata": {},
   "outputs": [],
   "source": [
    "X_train, X_test, y_train, y_test = tts(X, y, test_size=0.2) #Hacemos train test split"
   ]
  },
  {
   "cell_type": "markdown",
   "id": "48e67bbf",
   "metadata": {},
   "source": [
    "## Regresor Lineal"
   ]
  },
  {
   "cell_type": "code",
   "execution_count": null,
   "id": "cbcb19c6",
   "metadata": {},
   "outputs": [],
   "source": []
  },
  {
   "cell_type": "code",
   "execution_count": null,
   "id": "359544dc",
   "metadata": {},
   "outputs": [],
   "source": []
  }
 ],
 "metadata": {
  "kernelspec": {
   "display_name": "Python [conda env:ironhack] *",
   "language": "python",
   "name": "conda-env-ironhack-py"
  },
  "language_info": {
   "codemirror_mode": {
    "name": "ipython",
    "version": 3
   },
   "file_extension": ".py",
   "mimetype": "text/x-python",
   "name": "python",
   "nbconvert_exporter": "python",
   "pygments_lexer": "ipython3",
   "version": "3.9.7"
  }
 },
 "nbformat": 4,
 "nbformat_minor": 5
}
