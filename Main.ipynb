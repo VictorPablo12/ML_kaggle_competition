{
 "cells": [
  {
   "cell_type": "code",
   "execution_count": 1,
   "id": "33589826",
   "metadata": {},
   "outputs": [],
   "source": [
    "import pandas as pd\n",
    "import numpy as np"
   ]
  },
  {
   "cell_type": "markdown",
   "id": "858fc960",
   "metadata": {},
   "source": [
    "# Data Cleaning"
   ]
  },
  {
   "cell_type": "markdown",
   "id": "29f1ffa1",
   "metadata": {},
   "source": [
    "- Importing data set\n",
    "- In this case weĺl be working with train.csv which is the data frame we'll be using to train our models"
   ]
  },
  {
   "cell_type": "code",
   "execution_count": 2,
   "id": "12670dcd",
   "metadata": {},
   "outputs": [
    {
     "name": "stderr",
     "output_type": "stream",
     "text": [
      "/tmp/ipykernel_10545/2777334584.py:1: DtypeWarning: Columns (0,2,22,36,41,45,46,55,61,64,66) have mixed types. Specify dtype option on import or set low_memory=False.\n",
      "  airBNB_train = pd.read_csv('data/train.csv.zip')\n"
     ]
    }
   ],
   "source": [
    "airBNB_train = pd.read_csv('data/train.csv.zip')"
   ]
  },
  {
   "cell_type": "code",
   "execution_count": 3,
   "id": "b565ef42",
   "metadata": {},
   "outputs": [
    {
     "name": "stderr",
     "output_type": "stream",
     "text": [
      "/tmp/ipykernel_10545/2878296302.py:1: DtypeWarning: Columns (0,2,22,40,44,45,54,60,63,65) have mixed types. Specify dtype option on import or set low_memory=False.\n",
      "  airBNB_test = pd.read_csv('data/test.csv.zip')\n"
     ]
    }
   ],
   "source": [
    "airBNB_test = pd.read_csv('data/test.csv.zip')"
   ]
  },
  {
   "cell_type": "markdown",
   "id": "6241290c",
   "metadata": {},
   "source": [
    "- Making a copy just in case:"
   ]
  },
  {
   "cell_type": "code",
   "execution_count": 4,
   "id": "f95f407d",
   "metadata": {},
   "outputs": [],
   "source": [
    "raw_train= airBNB_train.copy()\n",
    "raw_test = airBNB_test.copy()"
   ]
  },
  {
   "cell_type": "code",
   "execution_count": 5,
   "id": "6c75c6ba",
   "metadata": {
    "scrolled": true
   },
   "outputs": [
    {
     "data": {
      "text/plain": [
       "((263760, 82), (87922, 81))"
      ]
     },
     "execution_count": 5,
     "metadata": {},
     "output_type": "execute_result"
    }
   ],
   "source": [
    "raw_train.shape, raw_test.shape"
   ]
  },
  {
   "cell_type": "code",
   "execution_count": 6,
   "id": "d384e106",
   "metadata": {},
   "outputs": [],
   "source": [
    "# EDA of data set:"
   ]
  },
  {
   "cell_type": "code",
   "execution_count": null,
   "id": "da367295",
   "metadata": {},
   "outputs": [],
   "source": []
  },
  {
   "cell_type": "markdown",
   "id": "d1202f9d",
   "metadata": {},
   "source": [
    "### Vamos a hacerlo a lo bestia por tener una referencia de performance:\n",
    " - Con regresor lineal -- de momento lo saltamos por el tema de columnas no numericas\n",
    " - Con Pycaret\n",
    " - Con H20"
   ]
  },
  {
   "cell_type": "markdown",
   "id": "5fa31f1f",
   "metadata": {},
   "source": [
    "## Splitting our train DF:"
   ]
  },
  {
   "cell_type": "code",
   "execution_count": null,
   "id": "ecbd504a",
   "metadata": {},
   "outputs": [],
   "source": [
    "#y = raw['price']\n",
    "#X=raw.drop('price', axis=1)"
   ]
  },
  {
   "cell_type": "code",
   "execution_count": null,
   "id": "9d108d1c",
   "metadata": {},
   "outputs": [],
   "source": [
    "from sklearn.model_selection import train_test_split as tts"
   ]
  },
  {
   "cell_type": "code",
   "execution_count": null,
   "id": "03ad63f1",
   "metadata": {},
   "outputs": [],
   "source": [
    "#X_train, X_test, y_train, y_test = tts(X, y, test_size=0.2) #80% train and %20 test"
   ]
  },
  {
   "cell_type": "code",
   "execution_count": null,
   "id": "b2eef0de",
   "metadata": {},
   "outputs": [],
   "source": [
    "#X_train.shape, X_test.shape, y_train.shape, y_test.shape #just checking sizes"
   ]
  },
  {
   "cell_type": "code",
   "execution_count": null,
   "id": "6ea8d579",
   "metadata": {},
   "outputs": [],
   "source": [
    "#X_train.shape[1] == X_test.shape[1]"
   ]
  },
  {
   "cell_type": "code",
   "execution_count": null,
   "id": "e8756643",
   "metadata": {},
   "outputs": [],
   "source": [
    "#X_test.shape[0]/X_train.shape[0] #Testeo con el 25%datos de los que entreno"
   ]
  },
  {
   "cell_type": "markdown",
   "id": "48e67bbf",
   "metadata": {},
   "source": [
    "## 1 - Regresor Lineal"
   ]
  },
  {
   "cell_type": "code",
   "execution_count": null,
   "id": "cbcb19c6",
   "metadata": {},
   "outputs": [],
   "source": [
    "import pylab as plt # para plotear puntos y demás\n",
    "from sklearn.linear_model import LinearRegression as LinReg #Importamos regresion lineal"
   ]
  },
  {
   "cell_type": "markdown",
   "id": "43ac75a5",
   "metadata": {},
   "source": [
    "- Aplicamos regresor lineal a nuestros datos:"
   ]
  },
  {
   "cell_type": "code",
   "execution_count": null,
   "id": "359544dc",
   "metadata": {},
   "outputs": [],
   "source": [
    "#linreg=LinReg() # Inicializamos modelo\n",
    "#linreg.fit(X_train, y_train) #Lo entrenamos\n",
    "\n",
    "#OJO QUE LA REGRESION LINEAL NO SE COME TODAS LAS CARACTERÍSTICAS--> TIRAMOS DE PYCARET Y H2O\n",
    "# PARA UNA PRIMERA APROXIMACION"
   ]
  },
  {
   "cell_type": "markdown",
   "id": "9a25077f",
   "metadata": {},
   "source": [
    "## 2 -  PYCARET y H20 PARA UNA PRIMERA APROXIMACION DE POR DONDE TIRAR:"
   ]
  },
  {
   "cell_type": "markdown",
   "id": "e2edba3c",
   "metadata": {},
   "source": [
    "### 2.1 - Pycaret"
   ]
  },
  {
   "cell_type": "code",
   "execution_count": null,
   "id": "79eb33d1",
   "metadata": {},
   "outputs": [],
   "source": [
    "from pycaret.regression import *\n",
    "from pycaret.datasets import get_data\n",
    "from pycaret.classification import *"
   ]
  },
  {
   "cell_type": "code",
   "execution_count": null,
   "id": "7013e0a9",
   "metadata": {},
   "outputs": [
    {
     "data": {
      "text/plain": [
       "((263760, 82), (87922, 81))"
      ]
     },
     "execution_count": 16,
     "metadata": {},
     "output_type": "execute_result"
    }
   ],
   "source": [
    "raw_train.shape, raw_test.shape"
   ]
  },
  {
   "cell_type": "code",
   "execution_count": null,
   "id": "13819dca",
   "metadata": {},
   "outputs": [
    {
     "data": {
      "text/plain": [
       "'2.3.6'"
      ]
     },
     "execution_count": 17,
     "metadata": {},
     "output_type": "execute_result"
    }
   ],
   "source": [
    "from pycaret.utils import version\n",
    "version()"
   ]
  },
  {
   "cell_type": "code",
   "execution_count": null,
   "id": "c075d876",
   "metadata": {},
   "outputs": [
    {
     "data": {
      "text/html": [
       "<div>\n",
       "<style scoped>\n",
       "    .dataframe tbody tr th:only-of-type {\n",
       "        vertical-align: middle;\n",
       "    }\n",
       "\n",
       "    .dataframe tbody tr th {\n",
       "        vertical-align: top;\n",
       "    }\n",
       "\n",
       "    .dataframe thead th {\n",
       "        text-align: right;\n",
       "    }\n",
       "</style>\n",
       "<table border=\"1\" class=\"dataframe\">\n",
       "  <thead>\n",
       "    <tr style=\"text-align: right;\">\n",
       "      <th></th>\n",
       "      <th>id</th>\n",
       "      <th>listing_url</th>\n",
       "      <th>scrape_id</th>\n",
       "      <th>last_scraped</th>\n",
       "      <th>name</th>\n",
       "      <th>description</th>\n",
       "      <th>neighborhood_overview</th>\n",
       "      <th>picture_url</th>\n",
       "      <th>host_id</th>\n",
       "      <th>host_url</th>\n",
       "      <th>host_name</th>\n",
       "      <th>host_since</th>\n",
       "      <th>host_location</th>\n",
       "      <th>host_about</th>\n",
       "      <th>host_response_time</th>\n",
       "      <th>host_response_rate</th>\n",
       "      <th>host_acceptance_rate</th>\n",
       "      <th>host_is_superhost</th>\n",
       "      <th>host_thumbnail_url</th>\n",
       "      <th>host_picture_url</th>\n",
       "      <th>host_neighbourhood</th>\n",
       "      <th>host_listings_count</th>\n",
       "      <th>host_total_listings_count</th>\n",
       "      <th>host_verifications</th>\n",
       "      <th>host_has_profile_pic</th>\n",
       "      <th>host_identity_verified</th>\n",
       "      <th>neighbourhood</th>\n",
       "      <th>neighbourhood_cleansed</th>\n",
       "      <th>neighbourhood_group_cleansed</th>\n",
       "      <th>latitude</th>\n",
       "      <th>longitude</th>\n",
       "      <th>property_type</th>\n",
       "      <th>room_type</th>\n",
       "      <th>accommodates</th>\n",
       "      <th>bathrooms</th>\n",
       "      <th>bathrooms_text</th>\n",
       "      <th>bedrooms</th>\n",
       "      <th>beds</th>\n",
       "      <th>amenities</th>\n",
       "      <th>price</th>\n",
       "      <th>minimum_nights</th>\n",
       "      <th>maximum_nights</th>\n",
       "      <th>minimum_minimum_nights</th>\n",
       "      <th>maximum_minimum_nights</th>\n",
       "      <th>minimum_maximum_nights</th>\n",
       "      <th>maximum_maximum_nights</th>\n",
       "      <th>minimum_nights_avg_ntm</th>\n",
       "      <th>maximum_nights_avg_ntm</th>\n",
       "      <th>calendar_updated</th>\n",
       "      <th>has_availability</th>\n",
       "      <th>availability_30</th>\n",
       "      <th>availability_60</th>\n",
       "      <th>availability_90</th>\n",
       "      <th>availability_365</th>\n",
       "      <th>calendar_last_scraped</th>\n",
       "      <th>number_of_reviews</th>\n",
       "      <th>number_of_reviews_ltm</th>\n",
       "      <th>number_of_reviews_l30d</th>\n",
       "      <th>first_review</th>\n",
       "      <th>last_review</th>\n",
       "      <th>review_scores_rating</th>\n",
       "      <th>review_scores_accuracy</th>\n",
       "      <th>review_scores_cleanliness</th>\n",
       "      <th>review_scores_checkin</th>\n",
       "      <th>review_scores_communication</th>\n",
       "      <th>review_scores_location</th>\n",
       "      <th>review_scores_value</th>\n",
       "      <th>license</th>\n",
       "      <th>instant_bookable</th>\n",
       "      <th>calculated_host_listings_count</th>\n",
       "      <th>calculated_host_listings_count_entire_homes</th>\n",
       "      <th>calculated_host_listings_count_private_rooms</th>\n",
       "      <th>calculated_host_listings_count_shared_rooms</th>\n",
       "      <th>reviews_per_month</th>\n",
       "      <th>last_searched</th>\n",
       "      <th>requires_license</th>\n",
       "      <th>region_id</th>\n",
       "      <th>region_name</th>\n",
       "      <th>region_parent_id</th>\n",
       "      <th>region_parent_name</th>\n",
       "      <th>region_parent_parent_id</th>\n",
       "      <th>region_parent_parent_name</th>\n",
       "    </tr>\n",
       "  </thead>\n",
       "  <tbody>\n",
       "    <tr>\n",
       "      <th>113255</th>\n",
       "      <td>113251</td>\n",
       "      <td>https://www.airbnb.com/rooms/5465239</td>\n",
       "      <td>20211208225137</td>\n",
       "      <td>2021-12-09</td>\n",
       "      <td>B&amp;B Ad Hoc Domus</td>\n",
       "      <td>We are a five minute walk from the Colosseum a...</td>\n",
       "      <td>on the Street there are a lot of shops (food, ...</td>\n",
       "      <td>https://a0.muscache.com/pictures/68167913/9a38...</td>\n",
       "      <td>13400097.0</td>\n",
       "      <td>https://www.airbnb.com/users/show/13400097</td>\n",
       "      <td>Barbara</td>\n",
       "      <td>2014-03-22</td>\n",
       "      <td>Rome, Lazio, Italy</td>\n",
       "      <td>mi piace conoscere le abitudini e gli usi degl...</td>\n",
       "      <td>within an hour</td>\n",
       "      <td>100%</td>\n",
       "      <td>98%</td>\n",
       "      <td>f</td>\n",
       "      <td>https://a0.muscache.com/im/pictures/user/123e1...</td>\n",
       "      <td>https://a0.muscache.com/im/pictures/user/123e1...</td>\n",
       "      <td>Esquilino</td>\n",
       "      <td>6.0</td>\n",
       "      <td>6.0</td>\n",
       "      <td>['email', 'phone', 'reviews', 'jumio', 'govern...</td>\n",
       "      <td>t</td>\n",
       "      <td>t</td>\n",
       "      <td>Rome, Lazio, Italy</td>\n",
       "      <td>I Centro Storico</td>\n",
       "      <td>NaN</td>\n",
       "      <td>41.88804</td>\n",
       "      <td>12.50752</td>\n",
       "      <td>Room in bed and breakfast</td>\n",
       "      <td>Hotel room</td>\n",
       "      <td>2.0</td>\n",
       "      <td>NaN</td>\n",
       "      <td>1 bath</td>\n",
       "      <td>1.0</td>\n",
       "      <td>2.0</td>\n",
       "      <td>[\"Heating\", \"Shampoo\", \"Essentials\", \"Breakfas...</td>\n",
       "      <td>50.0</td>\n",
       "      <td>1.0</td>\n",
       "      <td>1125</td>\n",
       "      <td>1.0</td>\n",
       "      <td>1.0</td>\n",
       "      <td>1125.0</td>\n",
       "      <td>1125.0</td>\n",
       "      <td>1.0</td>\n",
       "      <td>1125.0</td>\n",
       "      <td>NaN</td>\n",
       "      <td>t</td>\n",
       "      <td>16.0</td>\n",
       "      <td>43.0</td>\n",
       "      <td>72.0</td>\n",
       "      <td>334.0</td>\n",
       "      <td>2021-12-09</td>\n",
       "      <td>35</td>\n",
       "      <td>8.0</td>\n",
       "      <td>1.0</td>\n",
       "      <td>2015-12-27</td>\n",
       "      <td>2021-11-27</td>\n",
       "      <td>4.54</td>\n",
       "      <td>4.63</td>\n",
       "      <td>4.77</td>\n",
       "      <td>4.77</td>\n",
       "      <td>4.8</td>\n",
       "      <td>4.71</td>\n",
       "      <td>4.66</td>\n",
       "      <td>NaN</td>\n",
       "      <td>t</td>\n",
       "      <td>6.0</td>\n",
       "      <td>1.0</td>\n",
       "      <td>0.0</td>\n",
       "      <td>0.0</td>\n",
       "      <td>0.48</td>\n",
       "      <td>NaN</td>\n",
       "      <td>NaN</td>\n",
       "      <td>NaN</td>\n",
       "      <td>NaN</td>\n",
       "      <td>NaN</td>\n",
       "      <td>NaN</td>\n",
       "      <td>NaN</td>\n",
       "      <td>NaN</td>\n",
       "    </tr>\n",
       "  </tbody>\n",
       "</table>\n",
       "</div>"
      ],
      "text/plain": [
       "            id                           listing_url       scrape_id  \\\n",
       "113255  113251  https://www.airbnb.com/rooms/5465239  20211208225137   \n",
       "\n",
       "       last_scraped              name  \\\n",
       "113255   2021-12-09  B&B Ad Hoc Domus   \n",
       "\n",
       "                                              description  \\\n",
       "113255  We are a five minute walk from the Colosseum a...   \n",
       "\n",
       "                                    neighborhood_overview  \\\n",
       "113255  on the Street there are a lot of shops (food, ...   \n",
       "\n",
       "                                              picture_url     host_id  \\\n",
       "113255  https://a0.muscache.com/pictures/68167913/9a38...  13400097.0   \n",
       "\n",
       "                                          host_url host_name  host_since  \\\n",
       "113255  https://www.airbnb.com/users/show/13400097   Barbara  2014-03-22   \n",
       "\n",
       "             host_location                                         host_about  \\\n",
       "113255  Rome, Lazio, Italy  mi piace conoscere le abitudini e gli usi degl...   \n",
       "\n",
       "       host_response_time host_response_rate host_acceptance_rate  \\\n",
       "113255     within an hour               100%                  98%   \n",
       "\n",
       "       host_is_superhost                                 host_thumbnail_url  \\\n",
       "113255                 f  https://a0.muscache.com/im/pictures/user/123e1...   \n",
       "\n",
       "                                         host_picture_url host_neighbourhood  \\\n",
       "113255  https://a0.muscache.com/im/pictures/user/123e1...          Esquilino   \n",
       "\n",
       "        host_listings_count host_total_listings_count  \\\n",
       "113255                  6.0                       6.0   \n",
       "\n",
       "                                       host_verifications  \\\n",
       "113255  ['email', 'phone', 'reviews', 'jumio', 'govern...   \n",
       "\n",
       "       host_has_profile_pic host_identity_verified       neighbourhood  \\\n",
       "113255                    t                      t  Rome, Lazio, Italy   \n",
       "\n",
       "       neighbourhood_cleansed neighbourhood_group_cleansed  latitude  \\\n",
       "113255       I Centro Storico                          NaN  41.88804   \n",
       "\n",
       "        longitude              property_type   room_type  accommodates  \\\n",
       "113255   12.50752  Room in bed and breakfast  Hotel room           2.0   \n",
       "\n",
       "        bathrooms bathrooms_text bedrooms  beds  \\\n",
       "113255        NaN         1 bath      1.0   2.0   \n",
       "\n",
       "                                                amenities  price  \\\n",
       "113255  [\"Heating\", \"Shampoo\", \"Essentials\", \"Breakfas...   50.0   \n",
       "\n",
       "        minimum_nights maximum_nights  minimum_minimum_nights  \\\n",
       "113255             1.0           1125                     1.0   \n",
       "\n",
       "        maximum_minimum_nights  minimum_maximum_nights maximum_maximum_nights  \\\n",
       "113255                     1.0                  1125.0                 1125.0   \n",
       "\n",
       "       minimum_nights_avg_ntm  maximum_nights_avg_ntm  calendar_updated  \\\n",
       "113255                    1.0                  1125.0               NaN   \n",
       "\n",
       "       has_availability  availability_30  availability_60  availability_90  \\\n",
       "113255                t             16.0             43.0             72.0   \n",
       "\n",
       "        availability_365 calendar_last_scraped number_of_reviews  \\\n",
       "113255             334.0            2021-12-09                35   \n",
       "\n",
       "        number_of_reviews_ltm  number_of_reviews_l30d first_review  \\\n",
       "113255                    8.0                     1.0   2015-12-27   \n",
       "\n",
       "       last_review  review_scores_rating review_scores_accuracy  \\\n",
       "113255  2021-11-27                  4.54                   4.63   \n",
       "\n",
       "        review_scores_cleanliness  review_scores_checkin  \\\n",
       "113255                       4.77                   4.77   \n",
       "\n",
       "       review_scores_communication  review_scores_location  \\\n",
       "113255                         4.8                    4.71   \n",
       "\n",
       "       review_scores_value license instant_bookable  \\\n",
       "113255                4.66     NaN                t   \n",
       "\n",
       "        calculated_host_listings_count  \\\n",
       "113255                             6.0   \n",
       "\n",
       "        calculated_host_listings_count_entire_homes  \\\n",
       "113255                                          1.0   \n",
       "\n",
       "        calculated_host_listings_count_private_rooms  \\\n",
       "113255                                           0.0   \n",
       "\n",
       "        calculated_host_listings_count_shared_rooms  reviews_per_month  \\\n",
       "113255                                          0.0               0.48   \n",
       "\n",
       "       last_searched  requires_license  region_id region_name  \\\n",
       "113255           NaN               NaN        NaN         NaN   \n",
       "\n",
       "        region_parent_id region_parent_name region_parent_parent_id  \\\n",
       "113255               NaN                NaN                     NaN   \n",
       "\n",
       "       region_parent_parent_name  \n",
       "113255                       NaN  "
      ]
     },
     "execution_count": 18,
     "metadata": {},
     "output_type": "execute_result"
    }
   ],
   "source": [
    "raw_train.sample()"
   ]
  },
  {
   "cell_type": "code",
   "execution_count": null,
   "id": "bdfa4d44",
   "metadata": {},
   "outputs": [],
   "source": [
    "#raw_train.columns\n",
    "#raw_train.describe().T"
   ]
  },
  {
   "cell_type": "markdown",
   "id": "eb99b66b",
   "metadata": {},
   "source": [
    "NOTA: aquí habrúa que afinar el setup OJO"
   ]
  },
  {
   "cell_type": "code",
   "execution_count": null,
   "id": "3e5f3095",
   "metadata": {},
   "outputs": [],
   "source": [
    "#pycaret = setup(data = raw_train, target = 'price')"
   ]
  },
  {
   "cell_type": "markdown",
   "id": "3ec0ffd0",
   "metadata": {},
   "source": [
    "### 2.2 - H20 "
   ]
  },
  {
   "cell_type": "code",
   "execution_count": null,
   "id": "f37ba86a",
   "metadata": {},
   "outputs": [],
   "source": [
    "import h2o # Cargamos H20\n",
    "from h2o.automl import H2OAutoML"
   ]
  },
  {
   "cell_type": "code",
   "execution_count": null,
   "id": "1f533d8c",
   "metadata": {},
   "outputs": [
    {
     "name": "stdout",
     "output_type": "stream",
     "text": [
      "Checking whether there is an H2O instance running at http://localhost:54321 ..... not found.\n",
      "Attempting to start a local H2O server...\n",
      "  Java Version: openjdk version \"11.0.13\" 2021-10-19; OpenJDK Runtime Environment (build 11.0.13+8-Ubuntu-0ubuntu1.20.04); OpenJDK 64-Bit Server VM (build 11.0.13+8-Ubuntu-0ubuntu1.20.04, mixed mode, sharing)\n",
      "  Starting server from /home/vp/miniconda3/envs/ironhack/lib/python3.9/site-packages/h2o/backend/bin/h2o.jar\n",
      "  Ice root: /tmp/tmpbbo5odjo\n",
      "  JVM stdout: /tmp/tmpbbo5odjo/h2o_vp_started_from_python.out\n",
      "  JVM stderr: /tmp/tmpbbo5odjo/h2o_vp_started_from_python.err\n",
      "  Server is running at http://127.0.0.1:54321\n",
      "Connecting to H2O server at http://127.0.0.1:54321 ... successful.\n"
     ]
    },
    {
     "data": {
      "text/html": [
       "<div style=\"overflow:auto\"><table style=\"width:50%\"><tr><td>H2O_cluster_uptime:</td>\n",
       "<td>08 secs</td></tr>\n",
       "<tr><td>H2O_cluster_timezone:</td>\n",
       "<td>Europe/Madrid</td></tr>\n",
       "<tr><td>H2O_data_parsing_timezone:</td>\n",
       "<td>UTC</td></tr>\n",
       "<tr><td>H2O_cluster_version:</td>\n",
       "<td>3.36.0.3</td></tr>\n",
       "<tr><td>H2O_cluster_version_age:</td>\n",
       "<td>3 days </td></tr>\n",
       "<tr><td>H2O_cluster_name:</td>\n",
       "<td>H2O_from_python_vp_hhzkw0</td></tr>\n",
       "<tr><td>H2O_cluster_total_nodes:</td>\n",
       "<td>1</td></tr>\n",
       "<tr><td>H2O_cluster_free_memory:</td>\n",
       "<td>1.924 Gb</td></tr>\n",
       "<tr><td>H2O_cluster_total_cores:</td>\n",
       "<td>2</td></tr>\n",
       "<tr><td>H2O_cluster_allowed_cores:</td>\n",
       "<td>2</td></tr>\n",
       "<tr><td>H2O_cluster_status:</td>\n",
       "<td>locked, healthy</td></tr>\n",
       "<tr><td>H2O_connection_url:</td>\n",
       "<td>http://127.0.0.1:54321</td></tr>\n",
       "<tr><td>H2O_connection_proxy:</td>\n",
       "<td>{\"http\": null, \"https\": null}</td></tr>\n",
       "<tr><td>H2O_internal_security:</td>\n",
       "<td>False</td></tr>\n",
       "<tr><td>Python_version:</td>\n",
       "<td>3.9.7 final</td></tr></table></div>"
      ],
      "text/plain": [
       "--------------------------  -----------------------------\n",
       "H2O_cluster_uptime:         08 secs\n",
       "H2O_cluster_timezone:       Europe/Madrid\n",
       "H2O_data_parsing_timezone:  UTC\n",
       "H2O_cluster_version:        3.36.0.3\n",
       "H2O_cluster_version_age:    3 days\n",
       "H2O_cluster_name:           H2O_from_python_vp_hhzkw0\n",
       "H2O_cluster_total_nodes:    1\n",
       "H2O_cluster_free_memory:    1.924 Gb\n",
       "H2O_cluster_total_cores:    2\n",
       "H2O_cluster_allowed_cores:  2\n",
       "H2O_cluster_status:         locked, healthy\n",
       "H2O_connection_url:         http://127.0.0.1:54321\n",
       "H2O_connection_proxy:       {\"http\": null, \"https\": null}\n",
       "H2O_internal_security:      False\n",
       "Python_version:             3.9.7 final\n",
       "--------------------------  -----------------------------"
      ]
     },
     "metadata": {},
     "output_type": "display_data"
    }
   ],
   "source": [
    "h2o.init()"
   ]
  },
  {
   "cell_type": "code",
   "execution_count": null,
   "id": "76cc8e0d",
   "metadata": {},
   "outputs": [],
   "source": [
    "train = raw_train \n",
    "test = raw_test"
   ]
  },
  {
   "cell_type": "code",
   "execution_count": null,
   "id": "e0700d47",
   "metadata": {},
   "outputs": [],
   "source": [
    "#train.shape, test.shape"
   ]
  },
  {
   "cell_type": "code",
   "execution_count": null,
   "id": "582df701",
   "metadata": {},
   "outputs": [
    {
     "name": "stdout",
     "output_type": "stream",
     "text": [
      "Parse progress: |████████████████████████████████████████████████████████████████| (done) 100%\n",
      "Parse progress: |████████████████████████████████████████████████████████████████| (done) 100%\n"
     ]
    }
   ],
   "source": [
    "train = h2o.H2OFrame(train)#parseamos a formato H20\n",
    "test = h2o.H2OFrame(test)"
   ]
  },
  {
   "cell_type": "code",
   "execution_count": null,
   "id": "8b0b74b3",
   "metadata": {},
   "outputs": [],
   "source": [
    "X = train.columns\n",
    "y = 'price'\n",
    "X.remove(y)"
   ]
  },
  {
   "cell_type": "code",
   "execution_count": null,
   "id": "e9cf93b9",
   "metadata": {},
   "outputs": [],
   "source": [
    "aml = H2OAutoML(max_models=10, seed=1 )\n",
    "aml.train(x=X, y=y, training_frame=train)"
   ]
  },
  {
   "cell_type": "code",
   "execution_count": null,
   "id": "a3f5a867",
   "metadata": {},
   "outputs": [],
   "source": []
  }
 ],
 "metadata": {
  "interpreter": {
   "hash": "4d7f37effd978c980551fd44ee854e32fa996577b4c3426a2d70d85603639086"
  },
  "kernelspec": {
   "display_name": "Python 3 (ipykernel)",
   "language": "python",
   "name": "python3"
  },
  "language_info": {
   "codemirror_mode": {
    "name": "ipython",
    "version": 3
   },
   "file_extension": ".py",
   "mimetype": "text/x-python",
   "name": "python",
   "nbconvert_exporter": "python",
   "pygments_lexer": "ipython3",
   "version": "3.9.7"
  }
 },
 "nbformat": 4,
 "nbformat_minor": 5
}
