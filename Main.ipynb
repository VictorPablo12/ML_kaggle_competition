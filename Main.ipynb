{
 "cells": [
  {
   "cell_type": "code",
   "execution_count": 1,
   "id": "33589826",
   "metadata": {},
   "outputs": [],
   "source": [
    "import pandas as pd\n",
    "import numpy as np"
   ]
  },
  {
   "cell_type": "markdown",
   "id": "858fc960",
   "metadata": {},
   "source": [
    "# Data Cleaning"
   ]
  },
  {
   "cell_type": "markdown",
   "id": "29f1ffa1",
   "metadata": {},
   "source": [
    "- Importing data set\n",
    "- In this case weĺl be working with train.csv which is the data frame we'll be using to train our models"
   ]
  },
  {
   "cell_type": "code",
   "execution_count": 2,
   "id": "12670dcd",
   "metadata": {},
   "outputs": [
    {
     "name": "stderr",
     "output_type": "stream",
     "text": [
      "/tmp/ipykernel_62493/964544275.py:1: DtypeWarning: Columns (0,2,22,36,41,45,46,55,61,64,66) have mixed types. Specify dtype option on import or set low_memory=False.\n",
      "  airBNB_train = pd.read_csv('data/train.csv.zip')\n"
     ]
    }
   ],
   "source": [
    "airBNB_train = pd.read_csv('data/train.csv.zip') "
   ]
  },
  {
   "cell_type": "markdown",
   "id": "6241290c",
   "metadata": {},
   "source": [
    "- Making a copy just in case:"
   ]
  },
  {
   "cell_type": "code",
   "execution_count": 3,
   "id": "f95f407d",
   "metadata": {},
   "outputs": [],
   "source": [
    "raw = airBNB_train.copy()"
   ]
  },
  {
   "cell_type": "code",
   "execution_count": 4,
   "id": "6c75c6ba",
   "metadata": {
    "scrolled": true
   },
   "outputs": [
    {
     "data": {
      "text/html": [
       "<div>\n",
       "<style scoped>\n",
       "    .dataframe tbody tr th:only-of-type {\n",
       "        vertical-align: middle;\n",
       "    }\n",
       "\n",
       "    .dataframe tbody tr th {\n",
       "        vertical-align: top;\n",
       "    }\n",
       "\n",
       "    .dataframe thead th {\n",
       "        text-align: right;\n",
       "    }\n",
       "</style>\n",
       "<table border=\"1\" class=\"dataframe\">\n",
       "  <thead>\n",
       "    <tr style=\"text-align: right;\">\n",
       "      <th></th>\n",
       "      <th>id</th>\n",
       "      <th>listing_url</th>\n",
       "      <th>scrape_id</th>\n",
       "      <th>last_scraped</th>\n",
       "      <th>name</th>\n",
       "      <th>description</th>\n",
       "      <th>neighborhood_overview</th>\n",
       "      <th>picture_url</th>\n",
       "      <th>host_id</th>\n",
       "      <th>host_url</th>\n",
       "      <th>...</th>\n",
       "      <th>calculated_host_listings_count_shared_rooms</th>\n",
       "      <th>reviews_per_month</th>\n",
       "      <th>last_searched</th>\n",
       "      <th>requires_license</th>\n",
       "      <th>region_id</th>\n",
       "      <th>region_name</th>\n",
       "      <th>region_parent_id</th>\n",
       "      <th>region_parent_name</th>\n",
       "      <th>region_parent_parent_id</th>\n",
       "      <th>region_parent_parent_name</th>\n",
       "    </tr>\n",
       "  </thead>\n",
       "  <tbody>\n",
       "    <tr>\n",
       "      <th>51360</th>\n",
       "      <td>51359</td>\n",
       "      <td>https://www.airbnb.com/rooms/23029896</td>\n",
       "      <td>20211208225209</td>\n",
       "      <td>2021-12-09</td>\n",
       "      <td>Modern 2 bedroom apartment in central Dublin</td>\n",
       "      <td>Excellent, modern apartment located just off t...</td>\n",
       "      <td>NaN</td>\n",
       "      <td>https://a0.muscache.com/pictures/a1d47bc9-25f5...</td>\n",
       "      <td>81042604.0</td>\n",
       "      <td>https://www.airbnb.com/users/show/81042604</td>\n",
       "      <td>...</td>\n",
       "      <td>0.0</td>\n",
       "      <td>0.02</td>\n",
       "      <td>NaN</td>\n",
       "      <td>NaN</td>\n",
       "      <td>NaN</td>\n",
       "      <td>NaN</td>\n",
       "      <td>NaN</td>\n",
       "      <td>NaN</td>\n",
       "      <td>NaN</td>\n",
       "      <td>NaN</td>\n",
       "    </tr>\n",
       "  </tbody>\n",
       "</table>\n",
       "<p>1 rows × 82 columns</p>\n",
       "</div>"
      ],
      "text/plain": [
       "          id                            listing_url       scrape_id  \\\n",
       "51360  51359  https://www.airbnb.com/rooms/23029896  20211208225209   \n",
       "\n",
       "      last_scraped                                          name  \\\n",
       "51360   2021-12-09  Modern 2 bedroom apartment in central Dublin   \n",
       "\n",
       "                                             description  \\\n",
       "51360  Excellent, modern apartment located just off t...   \n",
       "\n",
       "      neighborhood_overview  \\\n",
       "51360                   NaN   \n",
       "\n",
       "                                             picture_url     host_id  \\\n",
       "51360  https://a0.muscache.com/pictures/a1d47bc9-25f5...  81042604.0   \n",
       "\n",
       "                                         host_url  ...  \\\n",
       "51360  https://www.airbnb.com/users/show/81042604  ...   \n",
       "\n",
       "      calculated_host_listings_count_shared_rooms reviews_per_month  \\\n",
       "51360                                         0.0              0.02   \n",
       "\n",
       "      last_searched requires_license region_id region_name region_parent_id  \\\n",
       "51360           NaN              NaN       NaN         NaN              NaN   \n",
       "\n",
       "      region_parent_name region_parent_parent_id region_parent_parent_name  \n",
       "51360                NaN                     NaN                       NaN  \n",
       "\n",
       "[1 rows x 82 columns]"
      ]
     },
     "execution_count": 4,
     "metadata": {},
     "output_type": "execute_result"
    }
   ],
   "source": [
    "raw.sample()"
   ]
  },
  {
   "cell_type": "markdown",
   "id": "d1202f9d",
   "metadata": {},
   "source": [
    "### Vamos a hacerlo a lo bestia por tener una referencia de performance:\n",
    " - Con regresor lineal\n",
    " - Con Pycaret\n",
    " - Con H20"
   ]
  },
  {
   "cell_type": "markdown",
   "id": "5fa31f1f",
   "metadata": {},
   "source": [
    "## Splitting our train DF:"
   ]
  },
  {
   "cell_type": "code",
   "execution_count": 5,
   "id": "ecbd504a",
   "metadata": {},
   "outputs": [],
   "source": [
    "y = raw['price']\n",
    "X=raw.drop('price', axis=1)"
   ]
  },
  {
   "cell_type": "code",
   "execution_count": 6,
   "id": "9d108d1c",
   "metadata": {},
   "outputs": [],
   "source": [
    "from sklearn.model_selection import train_test_split as tts"
   ]
  },
  {
   "cell_type": "code",
   "execution_count": 10,
   "id": "03ad63f1",
   "metadata": {},
   "outputs": [],
   "source": [
    "X_train, X_test, y_train, y_test = tts(X, y, test_size=0.2) #80% train and %20 test"
   ]
  },
  {
   "cell_type": "code",
   "execution_count": 12,
   "id": "95d3724f",
   "metadata": {},
   "outputs": [
    {
     "data": {
      "text/plain": [
       "((211008, 81), (52752, 81), (211008,), (52752,))"
      ]
     },
     "execution_count": 12,
     "metadata": {},
     "output_type": "execute_result"
    }
   ],
   "source": [
    "X_train.shape, X_test.shape, y_train.shape, y_test.shape #just checking sizes"
   ]
  },
  {
   "cell_type": "code",
   "execution_count": 15,
   "id": "047fd6d3",
   "metadata": {},
   "outputs": [
    {
     "data": {
      "text/plain": [
       "True"
      ]
     },
     "execution_count": 15,
     "metadata": {},
     "output_type": "execute_result"
    }
   ],
   "source": [
    "X_train.shape[1] == X_test.shape[1]"
   ]
  },
  {
   "cell_type": "code",
   "execution_count": 16,
   "id": "0bc7f8cc",
   "metadata": {},
   "outputs": [
    {
     "data": {
      "text/plain": [
       "0.25"
      ]
     },
     "execution_count": 16,
     "metadata": {},
     "output_type": "execute_result"
    }
   ],
   "source": [
    "X_test.shape[0]/X_train.shape[0] #Testeo con el 25%datos de los que entreno"
   ]
  },
  {
   "cell_type": "markdown",
   "id": "48e67bbf",
   "metadata": {},
   "source": [
    "## Regresor Lineal"
   ]
  },
  {
   "cell_type": "code",
   "execution_count": 18,
   "id": "cbcb19c6",
   "metadata": {},
   "outputs": [],
   "source": [
    "import pylab as plt # para plotear puntos y demás\n",
    "from sklearn.linear_model import LinearRegression as LinReg #Importamos regresion lineal"
   ]
  },
  {
   "cell_type": "markdown",
   "id": "43237887",
   "metadata": {},
   "source": [
    "- Aplicamos regresor lineal a nuestros datos:"
   ]
  },
  {
   "cell_type": "code",
   "execution_count": 22,
   "id": "359544dc",
   "metadata": {},
   "outputs": [],
   "source": [
    "linreg=LinReg() # Inicializamos modelo\n",
    "#linreg.fit(X_train, y_train) #Lo entrenamos\n",
    "\n",
    "#OJO QUE LA REGRESION LINEAL NO SE COME TODAS LAS CARACTERÍSTICAS--> TIRAMOS DE PYCARET Y H2O\n",
    "# PARA UNA PRIMERA APROXIMACION"
   ]
  },
  {
   "cell_type": "markdown",
   "id": "c9877f75",
   "metadata": {},
   "source": [
    "## PYCARET y H20 PARA UNA PRIMERA APROXIMACION DE POR DONDE TIRAR:"
   ]
  },
  {
   "cell_type": "markdown",
   "id": "6c23b840",
   "metadata": {},
   "source": [
    "### Pycaret"
   ]
  },
  {
   "cell_type": "code",
   "execution_count": 23,
   "id": "f36fcb4c",
   "metadata": {},
   "outputs": [],
   "source": [
    "from pycaret.regression import * #Import Pycaret"
   ]
  },
  {
   "cell_type": "code",
   "execution_count": null,
   "id": "ee848343",
   "metadata": {},
   "outputs": [],
   "source": []
  }
 ],
 "metadata": {
  "kernelspec": {
   "display_name": "Python [conda env:ironhack] *",
   "language": "python",
   "name": "conda-env-ironhack-py"
  },
  "language_info": {
   "codemirror_mode": {
    "name": "ipython",
    "version": 3
   },
   "file_extension": ".py",
   "mimetype": "text/x-python",
   "name": "python",
   "nbconvert_exporter": "python",
   "pygments_lexer": "ipython3",
   "version": "3.9.7"
  }
 },
 "nbformat": 4,
 "nbformat_minor": 5
}
