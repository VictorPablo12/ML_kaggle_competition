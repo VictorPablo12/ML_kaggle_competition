{
 "cells": [
  {
   "cell_type": "markdown",
   "id": "5923aea1",
   "metadata": {},
   "source": [
    "First approach to our data set using <code>sweet viz</code> which you can find [**here**](https://github.com/fbdesignpro/sweetviz) & pandas\n"
   ]
  },
  {
   "cell_type": "code",
   "execution_count": 3,
   "id": "2207b1f0",
   "metadata": {},
   "outputs": [
    {
     "name": "stdout",
     "output_type": "stream",
     "text": [
      "Collecting sweetviz\n",
      "  Using cached sweetviz-2.1.3-py3-none-any.whl (15.1 MB)\n",
      "Requirement already satisfied: numpy>=1.16.0 in /home/vp/miniconda3/envs/EDA/lib/python3.10/site-packages (from sweetviz) (1.22.2)\n",
      "Requirement already satisfied: pandas!=1.0.0,!=1.0.1,!=1.0.2,>=0.25.3 in /home/vp/miniconda3/envs/EDA/lib/python3.10/site-packages (from sweetviz) (1.4.1)\n",
      "Requirement already satisfied: scipy>=1.3.2 in /home/vp/miniconda3/envs/EDA/lib/python3.10/site-packages (from sweetviz) (1.8.0)\n",
      "Requirement already satisfied: tqdm>=4.43.0 in /home/vp/miniconda3/envs/EDA/lib/python3.10/site-packages (from sweetviz) (4.62.3)\n",
      "Requirement already satisfied: importlib-resources>=1.2.0 in /home/vp/miniconda3/envs/EDA/lib/python3.10/site-packages (from sweetviz) (5.4.0)\n",
      "Requirement already satisfied: matplotlib>=3.1.3 in /home/vp/miniconda3/envs/EDA/lib/python3.10/site-packages (from sweetviz) (3.5.1)\n",
      "Requirement already satisfied: jinja2>=2.11.1 in /home/vp/miniconda3/envs/EDA/lib/python3.10/site-packages (from sweetviz) (3.0.3)\n",
      "Requirement already satisfied: MarkupSafe>=2.0 in /home/vp/miniconda3/envs/EDA/lib/python3.10/site-packages (from jinja2>=2.11.1->sweetviz) (2.1.0)\n",
      "Requirement already satisfied: fonttools>=4.22.0 in /home/vp/miniconda3/envs/EDA/lib/python3.10/site-packages (from matplotlib>=3.1.3->sweetviz) (4.29.1)\n",
      "Requirement already satisfied: python-dateutil>=2.7 in /home/vp/miniconda3/envs/EDA/lib/python3.10/site-packages (from matplotlib>=3.1.3->sweetviz) (2.8.2)\n",
      "Requirement already satisfied: pyparsing>=2.2.1 in /home/vp/miniconda3/envs/EDA/lib/python3.10/site-packages (from matplotlib>=3.1.3->sweetviz) (3.0.7)\n",
      "Requirement already satisfied: cycler>=0.10 in /home/vp/miniconda3/envs/EDA/lib/python3.10/site-packages (from matplotlib>=3.1.3->sweetviz) (0.11.0)\n",
      "Requirement already satisfied: kiwisolver>=1.0.1 in /home/vp/miniconda3/envs/EDA/lib/python3.10/site-packages (from matplotlib>=3.1.3->sweetviz) (1.3.2)\n",
      "Requirement already satisfied: packaging>=20.0 in /home/vp/miniconda3/envs/EDA/lib/python3.10/site-packages (from matplotlib>=3.1.3->sweetviz) (21.3)\n",
      "Requirement already satisfied: pillow>=6.2.0 in /home/vp/miniconda3/envs/EDA/lib/python3.10/site-packages (from matplotlib>=3.1.3->sweetviz) (9.0.1)\n",
      "Requirement already satisfied: pytz>=2020.1 in /home/vp/miniconda3/envs/EDA/lib/python3.10/site-packages (from pandas!=1.0.0,!=1.0.1,!=1.0.2,>=0.25.3->sweetviz) (2021.3)\n",
      "Requirement already satisfied: six>=1.5 in /home/vp/miniconda3/envs/EDA/lib/python3.10/site-packages (from python-dateutil>=2.7->matplotlib>=3.1.3->sweetviz) (1.16.0)\n",
      "Installing collected packages: sweetviz\n",
      "Successfully installed sweetviz-2.1.3\n"
     ]
    }
   ],
   "source": [
    "!pip install sweetviz"
   ]
  },
  {
   "cell_type": "code",
   "execution_count": 2,
   "id": "6f306180",
   "metadata": {},
   "outputs": [
    {
     "ename": "ModuleNotFoundError",
     "evalue": "No module named 'sweetviz'",
     "output_type": "error",
     "traceback": [
      "\u001b[0;31m---------------------------------------------------------------------------\u001b[0m",
      "\u001b[0;31mModuleNotFoundError\u001b[0m                       Traceback (most recent call last)",
      "\u001b[0;32m/tmp/ipykernel_12098/503804033.py\u001b[0m in \u001b[0;36m<module>\u001b[0;34m\u001b[0m\n\u001b[1;32m      1\u001b[0m \u001b[0;32mimport\u001b[0m \u001b[0mpandas\u001b[0m \u001b[0;32mas\u001b[0m \u001b[0mpd\u001b[0m\u001b[0;34m\u001b[0m\u001b[0;34m\u001b[0m\u001b[0m\n\u001b[0;32m----> 2\u001b[0;31m \u001b[0;32mfrom\u001b[0m \u001b[0msweetviz\u001b[0m \u001b[0;32mimport\u001b[0m \u001b[0;34m*\u001b[0m\u001b[0;34m\u001b[0m\u001b[0;34m\u001b[0m\u001b[0m\n\u001b[0m",
      "\u001b[0;31mModuleNotFoundError\u001b[0m: No module named 'sweetviz'"
     ]
    }
   ],
   "source": [
    "import pandas as pd\n",
    "from sweetviz import *"
   ]
  },
  {
   "cell_type": "code",
   "execution_count": null,
   "id": "5a262e09",
   "metadata": {},
   "outputs": [],
   "source": []
  },
  {
   "cell_type": "markdown",
   "id": "54e4fc9d",
   "metadata": {},
   "source": [
    " ### Importing our **train** data set:"
   ]
  },
  {
   "cell_type": "code",
   "execution_count": null,
   "id": "02e94c20",
   "metadata": {},
   "outputs": [],
   "source": [
    "train_raw = pd.read_csv('data/train.csv.zip')"
   ]
  },
  {
   "cell_type": "code",
   "execution_count": null,
   "id": "3609ff84",
   "metadata": {},
   "outputs": [],
   "source": [
    "train_raw.head()"
   ]
  },
  {
   "cell_type": "markdown",
   "id": "8badc495",
   "metadata": {},
   "source": [
    "### As it's quite large, let's tweak pd options to dive into our dataset comfortably. This way we can display columns/rows desired with no kind of restriction."
   ]
  },
  {
   "cell_type": "code",
   "execution_count": null,
   "id": "eaf24a98",
   "metadata": {},
   "outputs": [],
   "source": [
    "pd.set_option('display.max_columns', None)\n",
    "pd.set_option('display.max_rows', None)"
   ]
  },
  {
   "cell_type": "code",
   "execution_count": null,
   "id": "6267f8fc",
   "metadata": {},
   "outputs": [],
   "source": [
    "train_raw.iloc[train_raw['id'][0]] "
   ]
  },
  {
   "cell_type": "code",
   "execution_count": null,
   "id": "f7c2869c",
   "metadata": {},
   "outputs": [],
   "source": [
    "train_raw['price'].max()"
   ]
  },
  {
   "cell_type": "code",
   "execution_count": null,
   "id": "9ab9ecc4",
   "metadata": {
    "scrolled": true
   },
   "outputs": [],
   "source": [
    "train_raw[train_raw['price'] == 6477 ]"
   ]
  },
  {
   "cell_type": "code",
   "execution_count": null,
   "id": "cfd1c83f",
   "metadata": {},
   "outputs": [],
   "source": [
    "train_raw.room_type.unique() #Hay cuatro tipo de habitaciones"
   ]
  },
  {
   "cell_type": "code",
   "execution_count": null,
   "id": "df0903c0",
   "metadata": {},
   "outputs": [],
   "source": []
  },
  {
   "cell_type": "code",
   "execution_count": null,
   "id": "6843a621",
   "metadata": {},
   "outputs": [],
   "source": []
  },
  {
   "cell_type": "code",
   "execution_count": null,
   "id": "ea8ac833",
   "metadata": {},
   "outputs": [],
   "source": []
  },
  {
   "cell_type": "markdown",
   "id": "6ae41146",
   "metadata": {},
   "source": [
    "### DOWNCASTING"
   ]
  },
  {
   "cell_type": "code",
   "execution_count": null,
   "id": "13c2ac2d",
   "metadata": {},
   "outputs": [],
   "source": []
  }
 ],
 "metadata": {
  "kernelspec": {
   "display_name": "EDA",
   "language": "python",
   "name": "eda"
  },
  "language_info": {
   "codemirror_mode": {
    "name": "ipython",
    "version": 3
   },
   "file_extension": ".py",
   "mimetype": "text/x-python",
   "name": "python",
   "nbconvert_exporter": "python",
   "pygments_lexer": "ipython3",
   "version": "3.9.5"
  }
 },
 "nbformat": 4,
 "nbformat_minor": 5
}
